{
 "cells": [
  {
   "cell_type": "code",
   "execution_count": null,
   "metadata": {},
   "outputs": [],
   "source": [
    "import pandas as pd\n",
    "import numpy as np\n",
    "import matplotlib.pyplot as plt\n",
    "import seaborn as sns"
   ]
  },
  {
   "cell_type": "code",
   "execution_count": 2,
   "metadata": {},
   "outputs": [
    {
     "name": "stdout",
     "output_type": "stream",
     "text": [
      "(5923, 61)\n"
     ]
    },
    {
     "data": {
      "text/html": [
       "<div>\n",
       "<style scoped>\n",
       "    .dataframe tbody tr th:only-of-type {\n",
       "        vertical-align: middle;\n",
       "    }\n",
       "\n",
       "    .dataframe tbody tr th {\n",
       "        vertical-align: top;\n",
       "    }\n",
       "\n",
       "    .dataframe thead th {\n",
       "        text-align: right;\n",
       "    }\n",
       "</style>\n",
       "<table border=\"1\" class=\"dataframe\">\n",
       "  <thead>\n",
       "    <tr style=\"text-align: right;\">\n",
       "      <th></th>\n",
       "      <th>BindingDB Reactant_set_id</th>\n",
       "      <th>Ligand SMILES</th>\n",
       "      <th>Ligand InChI</th>\n",
       "      <th>Ligand InChI Key</th>\n",
       "      <th>BindingDB MonomerID</th>\n",
       "      <th>BindingDB Ligand Name</th>\n",
       "      <th>Target Name Assigned by Curator or DataSource</th>\n",
       "      <th>Target Source Organism According to Curator or DataSource</th>\n",
       "      <th>Ki (nM)</th>\n",
       "      <th>IC50 (nM)</th>\n",
       "      <th>...</th>\n",
       "      <th>UniProt (SwissProt) Recommended Name of Target Chain.1</th>\n",
       "      <th>UniProt (SwissProt) Entry Name of Target Chain.1</th>\n",
       "      <th>UniProt (SwissProt) Primary ID of Target Chain.1</th>\n",
       "      <th>UniProt (SwissProt) Secondary ID(s) of Target Chain.1</th>\n",
       "      <th>UniProt (SwissProt) Alternative ID(s) of Target Chain.1</th>\n",
       "      <th>UniProt (TrEMBL) Submitted Name of Target Chain.1</th>\n",
       "      <th>UniProt (TrEMBL) Entry Name of Target Chain.1</th>\n",
       "      <th>UniProt (TrEMBL) Primary ID of Target Chain.1</th>\n",
       "      <th>UniProt (TrEMBL) Secondary ID(s) of Target Chain.1</th>\n",
       "      <th>UniProt (TrEMBL) Alternative ID(s) of Target Chain.1</th>\n",
       "    </tr>\n",
       "  </thead>\n",
       "  <tbody>\n",
       "    <tr>\n",
       "      <th>0</th>\n",
       "      <td>50965826</td>\n",
       "      <td>CNC(=O)COc1cccc(Nc2ncc(F)c(Nc3ccc4OC(F)(F)C(=O...</td>\n",
       "      <td>InChI=1S/C21H17F3N6O4/c1-25-17(31)10-33-13-4-2...</td>\n",
       "      <td>MOXXQFNQDDSJHT-UHFFFAOYSA-N</td>\n",
       "      <td>50396071</td>\n",
       "      <td>CHEMBL2170582</td>\n",
       "      <td>Tyrosine-protein kinase SYK</td>\n",
       "      <td>Homo sapiens</td>\n",
       "      <td>1.8</td>\n",
       "      <td>NaN</td>\n",
       "      <td>...</td>\n",
       "      <td>NaN</td>\n",
       "      <td>NaN</td>\n",
       "      <td>NaN</td>\n",
       "      <td>NaN</td>\n",
       "      <td>NaN</td>\n",
       "      <td>NaN</td>\n",
       "      <td>NaN</td>\n",
       "      <td>NaN</td>\n",
       "      <td>NaN</td>\n",
       "      <td>NaN</td>\n",
       "    </tr>\n",
       "  </tbody>\n",
       "</table>\n",
       "<p>1 rows × 61 columns</p>\n",
       "</div>"
      ],
      "text/plain": [
       "   BindingDB Reactant_set_id  \\\n",
       "0                   50965826   \n",
       "\n",
       "                                       Ligand SMILES  \\\n",
       "0  CNC(=O)COc1cccc(Nc2ncc(F)c(Nc3ccc4OC(F)(F)C(=O...   \n",
       "\n",
       "                                        Ligand InChI  \\\n",
       "0  InChI=1S/C21H17F3N6O4/c1-25-17(31)10-33-13-4-2...   \n",
       "\n",
       "              Ligand InChI Key  BindingDB MonomerID BindingDB Ligand Name  \\\n",
       "0  MOXXQFNQDDSJHT-UHFFFAOYSA-N             50396071         CHEMBL2170582   \n",
       "\n",
       "  Target Name Assigned by Curator or DataSource  \\\n",
       "0                   Tyrosine-protein kinase SYK   \n",
       "\n",
       "  Target Source Organism According to Curator or DataSource Ki (nM) IC50 (nM)  \\\n",
       "0                                       Homo sapiens            1.8       NaN   \n",
       "\n",
       "   ... UniProt (SwissProt) Recommended Name of Target Chain.1  \\\n",
       "0  ...                                                NaN       \n",
       "\n",
       "  UniProt (SwissProt) Entry Name of Target Chain.1  \\\n",
       "0                                              NaN   \n",
       "\n",
       "   UniProt (SwissProt) Primary ID of Target Chain.1  \\\n",
       "0                                               NaN   \n",
       "\n",
       "   UniProt (SwissProt) Secondary ID(s) of Target Chain.1  \\\n",
       "0                                                NaN       \n",
       "\n",
       "   UniProt (SwissProt) Alternative ID(s) of Target Chain.1  \\\n",
       "0                                                NaN         \n",
       "\n",
       "  UniProt (TrEMBL) Submitted Name of Target Chain.1  \\\n",
       "0                                               NaN   \n",
       "\n",
       "  UniProt (TrEMBL) Entry Name of Target Chain.1  \\\n",
       "0                                           NaN   \n",
       "\n",
       "  UniProt (TrEMBL) Primary ID of Target Chain.1  \\\n",
       "0                                           NaN   \n",
       "\n",
       "   UniProt (TrEMBL) Secondary ID(s) of Target Chain.1  \\\n",
       "0                                                NaN    \n",
       "\n",
       "  UniProt (TrEMBL) Alternative ID(s) of Target Chain.1  \n",
       "0                                                NaN    \n",
       "\n",
       "[1 rows x 61 columns]"
      ]
     },
     "execution_count": 2,
     "metadata": {},
     "output_type": "execute_result"
    }
   ],
   "source": [
    "file = 'D:\\\\学习课件\\\\405\\\\active_data.tsv'\n",
    "df_raw = pd.read_csv(file, sep='\\t')\n",
    "print(df_raw.shape)\n",
    "df_raw.head(1)"
   ]
  },
  {
   "cell_type": "code",
   "execution_count": 3,
   "metadata": {},
   "outputs": [
    {
     "data": {
      "text/html": [
       "<div>\n",
       "<style scoped>\n",
       "    .dataframe tbody tr th:only-of-type {\n",
       "        vertical-align: middle;\n",
       "    }\n",
       "\n",
       "    .dataframe tbody tr th {\n",
       "        vertical-align: top;\n",
       "    }\n",
       "\n",
       "    .dataframe thead th {\n",
       "        text-align: right;\n",
       "    }\n",
       "</style>\n",
       "<table border=\"1\" class=\"dataframe\">\n",
       "  <thead>\n",
       "    <tr style=\"text-align: right;\">\n",
       "      <th></th>\n",
       "      <th>BindingDB MonomerID</th>\n",
       "      <th>Ligand SMILES</th>\n",
       "      <th>BindingDB Ligand Name</th>\n",
       "      <th>Ki (nM)</th>\n",
       "      <th>IC50 (nM)</th>\n",
       "      <th>Kd (nM)</th>\n",
       "      <th>EC50 (nM)</th>\n",
       "      <th>pH</th>\n",
       "      <th>Article DOI</th>\n",
       "      <th>PMID</th>\n",
       "      <th>PubChem AID</th>\n",
       "      <th>Patent Number</th>\n",
       "    </tr>\n",
       "  </thead>\n",
       "  <tbody>\n",
       "    <tr>\n",
       "      <th>0</th>\n",
       "      <td>50396071</td>\n",
       "      <td>CNC(=O)COc1cccc(Nc2ncc(F)c(Nc3ccc4OC(F)(F)C(=O...</td>\n",
       "      <td>CHEMBL2170582</td>\n",
       "      <td>1.8</td>\n",
       "      <td>NaN</td>\n",
       "      <td>NaN</td>\n",
       "      <td>NaN</td>\n",
       "      <td>NaN</td>\n",
       "      <td>10.1021/jm201271b</td>\n",
       "      <td>22257213.0</td>\n",
       "      <td>NaN</td>\n",
       "      <td>NaN</td>\n",
       "    </tr>\n",
       "    <tr>\n",
       "      <th>1</th>\n",
       "      <td>50275934</td>\n",
       "      <td>Cc1cc(C)cc(Nc2nccc(n2)-c2ncc(CO)s2)c1</td>\n",
       "      <td>(2-(2-(3,5-dimethylphenylamino)pyrimidin-4-yl)...</td>\n",
       "      <td>4</td>\n",
       "      <td>NaN</td>\n",
       "      <td>NaN</td>\n",
       "      <td>NaN</td>\n",
       "      <td>NaN</td>\n",
       "      <td>10.1016/j.bmcl.2008.09.106</td>\n",
       "      <td>18938080.0</td>\n",
       "      <td>NaN</td>\n",
       "      <td>NaN</td>\n",
       "    </tr>\n",
       "    <tr>\n",
       "      <th>2</th>\n",
       "      <td>50325991</td>\n",
       "      <td>COc1ccc(cc1OC)-c1cc2nccn2c(Nc2ncccc2C(N)=O)n1</td>\n",
       "      <td>2-(7-(3,4-dimethoxyphenyl)imidazo[1,2-c]pyrimi...</td>\n",
       "      <td>7.5</td>\n",
       "      <td>NaN</td>\n",
       "      <td>NaN</td>\n",
       "      <td>NaN</td>\n",
       "      <td>NaN</td>\n",
       "      <td>10.1016/j.chembiol.2005.04.011</td>\n",
       "      <td>15975507.0</td>\n",
       "      <td>NaN</td>\n",
       "      <td>NaN</td>\n",
       "    </tr>\n",
       "  </tbody>\n",
       "</table>\n",
       "</div>"
      ],
      "text/plain": [
       "   BindingDB MonomerID                                      Ligand SMILES  \\\n",
       "0             50396071  CNC(=O)COc1cccc(Nc2ncc(F)c(Nc3ccc4OC(F)(F)C(=O...   \n",
       "1             50275934              Cc1cc(C)cc(Nc2nccc(n2)-c2ncc(CO)s2)c1   \n",
       "2             50325991      COc1ccc(cc1OC)-c1cc2nccn2c(Nc2ncccc2C(N)=O)n1   \n",
       "\n",
       "                               BindingDB Ligand Name Ki (nM) IC50 (nM)  \\\n",
       "0                                      CHEMBL2170582     1.8       NaN   \n",
       "1  (2-(2-(3,5-dimethylphenylamino)pyrimidin-4-yl)...       4       NaN   \n",
       "2  2-(7-(3,4-dimethoxyphenyl)imidazo[1,2-c]pyrimi...     7.5       NaN   \n",
       "\n",
       "  Kd (nM) EC50 (nM)  pH                     Article DOI        PMID  \\\n",
       "0     NaN       NaN NaN               10.1021/jm201271b  22257213.0   \n",
       "1     NaN       NaN NaN      10.1016/j.bmcl.2008.09.106  18938080.0   \n",
       "2     NaN       NaN NaN  10.1016/j.chembiol.2005.04.011  15975507.0   \n",
       "\n",
       "  PubChem AID Patent Number  \n",
       "0         NaN           NaN  \n",
       "1         NaN           NaN  \n",
       "2         NaN           NaN  "
      ]
     },
     "execution_count": 3,
     "metadata": {},
     "output_type": "execute_result"
    }
   ],
   "source": [
    "df = df_raw[['BindingDB MonomerID', 'Ligand SMILES', 'BindingDB Ligand Name', 'Ki (nM)', 'IC50 (nM)', \n",
    "            'Kd (nM)', 'EC50 (nM)', 'pH', 'Article DOI', 'PMID', 'PubChem AID', 'Patent Number']].copy(deep=True)\n",
    "df.head(3)"
   ]
  },
  {
   "cell_type": "markdown",
   "metadata": {},
   "source": [
    "# 删除全部为空的无用列"
   ]
  },
  {
   "cell_type": "code",
   "execution_count": 4,
   "metadata": {},
   "outputs": [
    {
     "name": "stdout",
     "output_type": "stream",
     "text": [
      "(5923, 12)\n",
      "(5923, 12)\n"
     ]
    }
   ],
   "source": [
    "print(df.shape)\n",
    "df.dropna(axis=1, how='all', inplace=True)\n",
    "print(df.shape)"
   ]
  },
  {
   "cell_type": "markdown",
   "metadata": {},
   "source": [
    "# 查看四个活性值均缺失的行"
   ]
  },
  {
   "cell_type": "code",
   "execution_count": 5,
   "metadata": {},
   "outputs": [
    {
     "data": {
      "text/html": [
       "<div>\n",
       "<style scoped>\n",
       "    .dataframe tbody tr th:only-of-type {\n",
       "        vertical-align: middle;\n",
       "    }\n",
       "\n",
       "    .dataframe tbody tr th {\n",
       "        vertical-align: top;\n",
       "    }\n",
       "\n",
       "    .dataframe thead th {\n",
       "        text-align: right;\n",
       "    }\n",
       "</style>\n",
       "<table border=\"1\" class=\"dataframe\">\n",
       "  <thead>\n",
       "    <tr style=\"text-align: right;\">\n",
       "      <th></th>\n",
       "      <th>BindingDB MonomerID</th>\n",
       "      <th>Ligand SMILES</th>\n",
       "      <th>BindingDB Ligand Name</th>\n",
       "      <th>Ki (nM)</th>\n",
       "      <th>IC50 (nM)</th>\n",
       "      <th>Kd (nM)</th>\n",
       "      <th>EC50 (nM)</th>\n",
       "      <th>pH</th>\n",
       "      <th>Article DOI</th>\n",
       "      <th>PMID</th>\n",
       "      <th>PubChem AID</th>\n",
       "      <th>Patent Number</th>\n",
       "    </tr>\n",
       "  </thead>\n",
       "  <tbody>\n",
       "  </tbody>\n",
       "</table>\n",
       "</div>"
      ],
      "text/plain": [
       "Empty DataFrame\n",
       "Columns: [BindingDB MonomerID, Ligand SMILES, BindingDB Ligand Name, Ki (nM), IC50 (nM), Kd (nM), EC50 (nM), pH, Article DOI, PMID, PubChem AID, Patent Number]\n",
       "Index: []"
      ]
     },
     "execution_count": 5,
     "metadata": {},
     "output_type": "execute_result"
    }
   ],
   "source": [
    "df[df['Ki (nM)'].isnull() & df['IC50 (nM)'].isnull() & df['Kd (nM)'].isnull() & df['EC50 (nM)'].isnull()]"
   ]
  },
  {
   "cell_type": "markdown",
   "metadata": {},
   "source": [
    "或"
   ]
  },
  {
   "cell_type": "code",
   "execution_count": 6,
   "metadata": {},
   "outputs": [
    {
     "data": {
      "text/html": [
       "<div>\n",
       "<style scoped>\n",
       "    .dataframe tbody tr th:only-of-type {\n",
       "        vertical-align: middle;\n",
       "    }\n",
       "\n",
       "    .dataframe tbody tr th {\n",
       "        vertical-align: top;\n",
       "    }\n",
       "\n",
       "    .dataframe thead th {\n",
       "        text-align: right;\n",
       "    }\n",
       "</style>\n",
       "<table border=\"1\" class=\"dataframe\">\n",
       "  <thead>\n",
       "    <tr style=\"text-align: right;\">\n",
       "      <th></th>\n",
       "      <th>BindingDB MonomerID</th>\n",
       "      <th>Ligand SMILES</th>\n",
       "      <th>BindingDB Ligand Name</th>\n",
       "      <th>Ki (nM)</th>\n",
       "      <th>IC50 (nM)</th>\n",
       "      <th>Kd (nM)</th>\n",
       "      <th>EC50 (nM)</th>\n",
       "      <th>pH</th>\n",
       "      <th>Article DOI</th>\n",
       "      <th>PMID</th>\n",
       "      <th>PubChem AID</th>\n",
       "      <th>Patent Number</th>\n",
       "    </tr>\n",
       "  </thead>\n",
       "  <tbody>\n",
       "  </tbody>\n",
       "</table>\n",
       "</div>"
      ],
      "text/plain": [
       "Empty DataFrame\n",
       "Columns: [BindingDB MonomerID, Ligand SMILES, BindingDB Ligand Name, Ki (nM), IC50 (nM), Kd (nM), EC50 (nM), pH, Article DOI, PMID, PubChem AID, Patent Number]\n",
       "Index: []"
      ]
     },
     "execution_count": 6,
     "metadata": {},
     "output_type": "execute_result"
    }
   ],
   "source": [
    "df[df[['Ki (nM)', 'IC50 (nM)', 'Kd (nM)', 'EC50 (nM)']].isnull().sum(axis=1) == 4]"
   ]
  },
  {
   "cell_type": "markdown",
   "metadata": {},
   "source": [
    "# 查看包含活性值类型多于1种的行"
   ]
  },
  {
   "cell_type": "code",
   "execution_count": 7,
   "metadata": {},
   "outputs": [
    {
     "data": {
      "text/html": [
       "<div>\n",
       "<style scoped>\n",
       "    .dataframe tbody tr th:only-of-type {\n",
       "        vertical-align: middle;\n",
       "    }\n",
       "\n",
       "    .dataframe tbody tr th {\n",
       "        vertical-align: top;\n",
       "    }\n",
       "\n",
       "    .dataframe thead th {\n",
       "        text-align: right;\n",
       "    }\n",
       "</style>\n",
       "<table border=\"1\" class=\"dataframe\">\n",
       "  <thead>\n",
       "    <tr style=\"text-align: right;\">\n",
       "      <th></th>\n",
       "      <th>BindingDB MonomerID</th>\n",
       "      <th>Ligand SMILES</th>\n",
       "      <th>BindingDB Ligand Name</th>\n",
       "      <th>Ki (nM)</th>\n",
       "      <th>IC50 (nM)</th>\n",
       "      <th>Kd (nM)</th>\n",
       "      <th>EC50 (nM)</th>\n",
       "      <th>pH</th>\n",
       "      <th>Article DOI</th>\n",
       "      <th>PMID</th>\n",
       "      <th>PubChem AID</th>\n",
       "      <th>Patent Number</th>\n",
       "    </tr>\n",
       "  </thead>\n",
       "  <tbody>\n",
       "    <tr>\n",
       "      <th>2377</th>\n",
       "      <td>100350</td>\n",
       "      <td>CS(=O)(=O)N1CCN(CC1)c1ccc(Nc2ncc(C(N)=O)c(NC3C...</td>\n",
       "      <td>US8501944, 372::US8501944, 375::US9868729, Exa...</td>\n",
       "      <td>NaN</td>\n",
       "      <td>15</td>\n",
       "      <td>4.5</td>\n",
       "      <td>NaN</td>\n",
       "      <td>NaN</td>\n",
       "      <td>NaN</td>\n",
       "      <td>NaN</td>\n",
       "      <td>NaN</td>\n",
       "      <td>US8501944</td>\n",
       "    </tr>\n",
       "  </tbody>\n",
       "</table>\n",
       "</div>"
      ],
      "text/plain": [
       "      BindingDB MonomerID                                      Ligand SMILES  \\\n",
       "2377               100350  CS(=O)(=O)N1CCN(CC1)c1ccc(Nc2ncc(C(N)=O)c(NC3C...   \n",
       "\n",
       "                                  BindingDB Ligand Name Ki (nM) IC50 (nM)  \\\n",
       "2377  US8501944, 372::US8501944, 375::US9868729, Exa...     NaN        15   \n",
       "\n",
       "     Kd (nM) EC50 (nM)  pH Article DOI  PMID PubChem AID Patent Number  \n",
       "2377     4.5       NaN NaN         NaN   NaN         NaN     US8501944  "
      ]
     },
     "execution_count": 7,
     "metadata": {},
     "output_type": "execute_result"
    }
   ],
   "source": [
    "df[df[['Ki (nM)', 'IC50 (nM)', 'Kd (nM)', 'EC50 (nM)']].notnull().sum(axis=1) > 1]"
   ]
  },
  {
   "cell_type": "markdown",
   "metadata": {},
   "source": [
    "# 对活性值种类多于1的记录任取一种"
   ]
  },
  {
   "cell_type": "code",
   "execution_count": 8,
   "metadata": {},
   "outputs": [],
   "source": [
    "df.loc[df[df[['Ki (nM)', 'IC50 (nM)', 'Kd (nM)', 'EC50 (nM)']].notnull().sum(axis=1) > 1].index.tolist(), 'IC50 (nM)'] = np.nan"
   ]
  },
  {
   "cell_type": "code",
   "execution_count": 9,
   "metadata": {},
   "outputs": [
    {
     "data": {
      "text/html": [
       "<div>\n",
       "<style scoped>\n",
       "    .dataframe tbody tr th:only-of-type {\n",
       "        vertical-align: middle;\n",
       "    }\n",
       "\n",
       "    .dataframe tbody tr th {\n",
       "        vertical-align: top;\n",
       "    }\n",
       "\n",
       "    .dataframe thead th {\n",
       "        text-align: right;\n",
       "    }\n",
       "</style>\n",
       "<table border=\"1\" class=\"dataframe\">\n",
       "  <thead>\n",
       "    <tr style=\"text-align: right;\">\n",
       "      <th></th>\n",
       "      <th>BindingDB MonomerID</th>\n",
       "      <th>Ligand SMILES</th>\n",
       "      <th>BindingDB Ligand Name</th>\n",
       "      <th>Ki (nM)</th>\n",
       "      <th>IC50 (nM)</th>\n",
       "      <th>Kd (nM)</th>\n",
       "      <th>EC50 (nM)</th>\n",
       "      <th>pH</th>\n",
       "      <th>Article DOI</th>\n",
       "      <th>PMID</th>\n",
       "      <th>PubChem AID</th>\n",
       "      <th>Patent Number</th>\n",
       "    </tr>\n",
       "  </thead>\n",
       "  <tbody>\n",
       "    <tr>\n",
       "      <th>2377</th>\n",
       "      <td>100350</td>\n",
       "      <td>CS(=O)(=O)N1CCN(CC1)c1ccc(Nc2ncc(C(N)=O)c(NC3C...</td>\n",
       "      <td>US8501944, 372::US8501944, 375::US9868729, Exa...</td>\n",
       "      <td>NaN</td>\n",
       "      <td>NaN</td>\n",
       "      <td>4.5</td>\n",
       "      <td>NaN</td>\n",
       "      <td>NaN</td>\n",
       "      <td>NaN</td>\n",
       "      <td>NaN</td>\n",
       "      <td>NaN</td>\n",
       "      <td>US8501944</td>\n",
       "    </tr>\n",
       "  </tbody>\n",
       "</table>\n",
       "</div>"
      ],
      "text/plain": [
       "      BindingDB MonomerID                                      Ligand SMILES  \\\n",
       "2377               100350  CS(=O)(=O)N1CCN(CC1)c1ccc(Nc2ncc(C(N)=O)c(NC3C...   \n",
       "\n",
       "                                  BindingDB Ligand Name Ki (nM) IC50 (nM)  \\\n",
       "2377  US8501944, 372::US8501944, 375::US9868729, Exa...     NaN       NaN   \n",
       "\n",
       "     Kd (nM) EC50 (nM)  pH Article DOI  PMID PubChem AID Patent Number  \n",
       "2377     4.5       NaN NaN         NaN   NaN         NaN     US8501944  "
      ]
     },
     "execution_count": 9,
     "metadata": {},
     "output_type": "execute_result"
    }
   ],
   "source": [
    "df.loc[[2377]]"
   ]
  },
  {
   "cell_type": "markdown",
   "metadata": {},
   "source": [
    "# 将活性类别中的NaN替换为''"
   ]
  },
  {
   "cell_type": "code",
   "execution_count": 10,
   "metadata": {},
   "outputs": [],
   "source": [
    "df.loc[:, ['Ki (nM)', 'IC50 (nM)', 'Kd (nM)', 'EC50 (nM)']] = df[['Ki (nM)', 'IC50 (nM)', 'Kd (nM)', 'EC50 (nM)']].fillna('')"
   ]
  },
  {
   "cell_type": "markdown",
   "metadata": {},
   "source": [
    "# 将活性值合并到一列"
   ]
  },
  {
   "cell_type": "code",
   "execution_count": 11,
   "metadata": {},
   "outputs": [],
   "source": [
    "df['activity'] = df['Ki (nM)'] + df['IC50 (nM)'] + df['Kd (nM)'] + df['EC50 (nM)']"
   ]
  },
  {
   "cell_type": "code",
   "execution_count": 12,
   "metadata": {},
   "outputs": [
    {
     "data": {
      "text/html": [
       "<div>\n",
       "<style scoped>\n",
       "    .dataframe tbody tr th:only-of-type {\n",
       "        vertical-align: middle;\n",
       "    }\n",
       "\n",
       "    .dataframe tbody tr th {\n",
       "        vertical-align: top;\n",
       "    }\n",
       "\n",
       "    .dataframe thead th {\n",
       "        text-align: right;\n",
       "    }\n",
       "</style>\n",
       "<table border=\"1\" class=\"dataframe\">\n",
       "  <thead>\n",
       "    <tr style=\"text-align: right;\">\n",
       "      <th></th>\n",
       "      <th>BindingDB MonomerID</th>\n",
       "      <th>Ligand SMILES</th>\n",
       "      <th>BindingDB Ligand Name</th>\n",
       "      <th>Ki (nM)</th>\n",
       "      <th>IC50 (nM)</th>\n",
       "      <th>Kd (nM)</th>\n",
       "      <th>EC50 (nM)</th>\n",
       "      <th>pH</th>\n",
       "      <th>Article DOI</th>\n",
       "      <th>PMID</th>\n",
       "      <th>PubChem AID</th>\n",
       "      <th>Patent Number</th>\n",
       "      <th>activity</th>\n",
       "    </tr>\n",
       "  </thead>\n",
       "  <tbody>\n",
       "    <tr>\n",
       "      <th>0</th>\n",
       "      <td>50396071</td>\n",
       "      <td>CNC(=O)COc1cccc(Nc2ncc(F)c(Nc3ccc4OC(F)(F)C(=O...</td>\n",
       "      <td>CHEMBL2170582</td>\n",
       "      <td>1.8</td>\n",
       "      <td></td>\n",
       "      <td></td>\n",
       "      <td></td>\n",
       "      <td>NaN</td>\n",
       "      <td>10.1021/jm201271b</td>\n",
       "      <td>22257213.0</td>\n",
       "      <td>NaN</td>\n",
       "      <td>NaN</td>\n",
       "      <td>1.8</td>\n",
       "    </tr>\n",
       "  </tbody>\n",
       "</table>\n",
       "</div>"
      ],
      "text/plain": [
       "   BindingDB MonomerID                                      Ligand SMILES  \\\n",
       "0             50396071  CNC(=O)COc1cccc(Nc2ncc(F)c(Nc3ccc4OC(F)(F)C(=O...   \n",
       "\n",
       "  BindingDB Ligand Name Ki (nM) IC50 (nM) Kd (nM) EC50 (nM)  pH  \\\n",
       "0         CHEMBL2170582     1.8                             NaN   \n",
       "\n",
       "         Article DOI        PMID PubChem AID Patent Number activity  \n",
       "0  10.1021/jm201271b  22257213.0         NaN           NaN      1.8  "
      ]
     },
     "execution_count": 12,
     "metadata": {},
     "output_type": "execute_result"
    }
   ],
   "source": [
    "df.head(1)"
   ]
  },
  {
   "cell_type": "markdown",
   "metadata": {},
   "source": [
    "# 新建一列记录活性单位"
   ]
  },
  {
   "cell_type": "code",
   "execution_count": 13,
   "metadata": {},
   "outputs": [],
   "source": [
    "for index, row in df.iterrows():\n",
    "    if row['Ki (nM)'] != '':\n",
    "        df.loc[index, 'unit'] = 'Ki (nM)'\n",
    "    elif row['IC50 (nM)'] != '':\n",
    "        df.loc[index, 'unit'] = 'IC50 (nM)'\n",
    "    elif row['Kd (nM)'] != '':\n",
    "        df.loc[index, 'unit'] = 'Kd (nM)'\n",
    "    elif row['EC50 (nM)'] != '':\n",
    "        df.loc[index, 'unit'] = 'EC50 (nM)'"
   ]
  },
  {
   "cell_type": "code",
   "execution_count": 14,
   "metadata": {},
   "outputs": [
    {
     "data": {
      "text/html": [
       "<div>\n",
       "<style scoped>\n",
       "    .dataframe tbody tr th:only-of-type {\n",
       "        vertical-align: middle;\n",
       "    }\n",
       "\n",
       "    .dataframe tbody tr th {\n",
       "        vertical-align: top;\n",
       "    }\n",
       "\n",
       "    .dataframe thead th {\n",
       "        text-align: right;\n",
       "    }\n",
       "</style>\n",
       "<table border=\"1\" class=\"dataframe\">\n",
       "  <thead>\n",
       "    <tr style=\"text-align: right;\">\n",
       "      <th></th>\n",
       "      <th>BindingDB MonomerID</th>\n",
       "      <th>Ligand SMILES</th>\n",
       "      <th>BindingDB Ligand Name</th>\n",
       "      <th>Ki (nM)</th>\n",
       "      <th>IC50 (nM)</th>\n",
       "      <th>Kd (nM)</th>\n",
       "      <th>EC50 (nM)</th>\n",
       "      <th>pH</th>\n",
       "      <th>Article DOI</th>\n",
       "      <th>PMID</th>\n",
       "      <th>PubChem AID</th>\n",
       "      <th>Patent Number</th>\n",
       "      <th>activity</th>\n",
       "      <th>unit</th>\n",
       "    </tr>\n",
       "  </thead>\n",
       "  <tbody>\n",
       "    <tr>\n",
       "      <th>0</th>\n",
       "      <td>50396071</td>\n",
       "      <td>CNC(=O)COc1cccc(Nc2ncc(F)c(Nc3ccc4OC(F)(F)C(=O...</td>\n",
       "      <td>CHEMBL2170582</td>\n",
       "      <td>1.8</td>\n",
       "      <td></td>\n",
       "      <td></td>\n",
       "      <td></td>\n",
       "      <td>NaN</td>\n",
       "      <td>10.1021/jm201271b</td>\n",
       "      <td>22257213.0</td>\n",
       "      <td>NaN</td>\n",
       "      <td>NaN</td>\n",
       "      <td>1.8</td>\n",
       "      <td>Ki (nM)</td>\n",
       "    </tr>\n",
       "  </tbody>\n",
       "</table>\n",
       "</div>"
      ],
      "text/plain": [
       "   BindingDB MonomerID                                      Ligand SMILES  \\\n",
       "0             50396071  CNC(=O)COc1cccc(Nc2ncc(F)c(Nc3ccc4OC(F)(F)C(=O...   \n",
       "\n",
       "  BindingDB Ligand Name Ki (nM) IC50 (nM) Kd (nM) EC50 (nM)  pH  \\\n",
       "0         CHEMBL2170582     1.8                             NaN   \n",
       "\n",
       "         Article DOI        PMID PubChem AID Patent Number activity     unit  \n",
       "0  10.1021/jm201271b  22257213.0         NaN           NaN      1.8  Ki (nM)  "
      ]
     },
     "execution_count": 14,
     "metadata": {},
     "output_type": "execute_result"
    }
   ],
   "source": [
    "df.head(1)"
   ]
  },
  {
   "cell_type": "markdown",
   "metadata": {},
   "source": [
    "# 查看不含“<”和“>”数据的统计量"
   ]
  },
  {
   "cell_type": "code",
   "execution_count": 15,
   "metadata": {},
   "outputs": [
    {
     "data": {
      "text/plain": [
       "count    5.192000e+03\n",
       "mean     8.851735e+03\n",
       "std      2.438747e+05\n",
       "min      0.000000e+00\n",
       "25%      1.140000e+01\n",
       "50%      5.500000e+01\n",
       "75%      3.691750e+02\n",
       "max      1.200000e+07\n",
       "Name: activity, dtype: float64"
      ]
     },
     "execution_count": 15,
     "metadata": {},
     "output_type": "execute_result"
    }
   ],
   "source": [
    "df[~df['activity'].str.contains('<|>')]['activity'].astype('float64').describe()"
   ]
  },
  {
   "cell_type": "markdown",
   "metadata": {},
   "source": [
    "根据统计量得出的结论：<br />\n",
    "1.最小值为0的数据，需要检查一下<br />\n",
    "2.前四分之一分位为11 nM，中位数为55 nM"
   ]
  },
  {
   "cell_type": "markdown",
   "metadata": {},
   "source": [
    "# 检查活性为0的数据"
   ]
  },
  {
   "cell_type": "code",
   "execution_count": 16,
   "metadata": {},
   "outputs": [
    {
     "data": {
      "text/html": [
       "<div>\n",
       "<style scoped>\n",
       "    .dataframe tbody tr th:only-of-type {\n",
       "        vertical-align: middle;\n",
       "    }\n",
       "\n",
       "    .dataframe tbody tr th {\n",
       "        vertical-align: top;\n",
       "    }\n",
       "\n",
       "    .dataframe thead th {\n",
       "        text-align: right;\n",
       "    }\n",
       "</style>\n",
       "<table border=\"1\" class=\"dataframe\">\n",
       "  <thead>\n",
       "    <tr style=\"text-align: right;\">\n",
       "      <th></th>\n",
       "      <th>BindingDB MonomerID</th>\n",
       "      <th>Ligand SMILES</th>\n",
       "      <th>BindingDB Ligand Name</th>\n",
       "      <th>Ki (nM)</th>\n",
       "      <th>IC50 (nM)</th>\n",
       "      <th>Kd (nM)</th>\n",
       "      <th>EC50 (nM)</th>\n",
       "      <th>pH</th>\n",
       "      <th>Article DOI</th>\n",
       "      <th>PMID</th>\n",
       "      <th>PubChem AID</th>\n",
       "      <th>Patent Number</th>\n",
       "      <th>activity</th>\n",
       "      <th>unit</th>\n",
       "    </tr>\n",
       "  </thead>\n",
       "  <tbody>\n",
       "    <tr>\n",
       "      <th>1540</th>\n",
       "      <td>140389</td>\n",
       "      <td>CCCn1cc(cn1)-c1cc(O[C@H](C)[C@H]2CNC(=O)C2)c2c...</td>\n",
       "      <td>US8912173, 114::US9914735, Example 114</td>\n",
       "      <td></td>\n",
       "      <td>0</td>\n",
       "      <td></td>\n",
       "      <td></td>\n",
       "      <td>7.5</td>\n",
       "      <td>NaN</td>\n",
       "      <td>NaN</td>\n",
       "      <td>NaN</td>\n",
       "      <td>US8912173</td>\n",
       "      <td>0</td>\n",
       "      <td>IC50 (nM)</td>\n",
       "    </tr>\n",
       "    <tr>\n",
       "      <th>1541</th>\n",
       "      <td>140390</td>\n",
       "      <td>CC(C)n1cc(cn1)-c1cc(O[C@H](C)[C@H]2CNC(=O)C2)c...</td>\n",
       "      <td>US8912173, 115::US9914735, Example 115</td>\n",
       "      <td></td>\n",
       "      <td>0</td>\n",
       "      <td></td>\n",
       "      <td></td>\n",
       "      <td>7.5</td>\n",
       "      <td>NaN</td>\n",
       "      <td>NaN</td>\n",
       "      <td>NaN</td>\n",
       "      <td>US8912173</td>\n",
       "      <td>0</td>\n",
       "      <td>IC50 (nM)</td>\n",
       "    </tr>\n",
       "    <tr>\n",
       "      <th>1542</th>\n",
       "      <td>140325</td>\n",
       "      <td>C[C@@H](Oc1cc(cc2ncccc12)-c1ccc(CN(C)C(C)=O)cc...</td>\n",
       "      <td>US8912173, 51</td>\n",
       "      <td></td>\n",
       "      <td>0</td>\n",
       "      <td></td>\n",
       "      <td></td>\n",
       "      <td>7.5</td>\n",
       "      <td>NaN</td>\n",
       "      <td>NaN</td>\n",
       "      <td>NaN</td>\n",
       "      <td>US8912173</td>\n",
       "      <td>0</td>\n",
       "      <td>IC50 (nM)</td>\n",
       "    </tr>\n",
       "  </tbody>\n",
       "</table>\n",
       "</div>"
      ],
      "text/plain": [
       "      BindingDB MonomerID                                      Ligand SMILES  \\\n",
       "1540               140389  CCCn1cc(cn1)-c1cc(O[C@H](C)[C@H]2CNC(=O)C2)c2c...   \n",
       "1541               140390  CC(C)n1cc(cn1)-c1cc(O[C@H](C)[C@H]2CNC(=O)C2)c...   \n",
       "1542               140325  C[C@@H](Oc1cc(cc2ncccc12)-c1ccc(CN(C)C(C)=O)cc...   \n",
       "\n",
       "                       BindingDB Ligand Name Ki (nM) IC50 (nM) Kd (nM)  \\\n",
       "1540  US8912173, 114::US9914735, Example 114                 0           \n",
       "1541  US8912173, 115::US9914735, Example 115                 0           \n",
       "1542                           US8912173, 51                 0           \n",
       "\n",
       "     EC50 (nM)   pH Article DOI  PMID PubChem AID Patent Number activity  \\\n",
       "1540            7.5         NaN   NaN         NaN     US8912173        0   \n",
       "1541            7.5         NaN   NaN         NaN     US8912173        0   \n",
       "1542            7.5         NaN   NaN         NaN     US8912173        0   \n",
       "\n",
       "           unit  \n",
       "1540  IC50 (nM)  \n",
       "1541  IC50 (nM)  \n",
       "1542  IC50 (nM)  "
      ]
     },
     "execution_count": 16,
     "metadata": {},
     "output_type": "execute_result"
    }
   ],
   "source": [
    "df[~df['activity'].str.contains('<|>')][df[~df['activity'].str.contains('<|>')]['activity'].astype('float64') == 0]"
   ]
  },
  {
   "cell_type": "markdown",
   "metadata": {},
   "source": [
    "化合物来自于一篇专利，可能没有报道活性，且缺失数据较少，故直接删掉"
   ]
  },
  {
   "cell_type": "markdown",
   "metadata": {},
   "source": [
    "# 获取活性值为0的数据的索引"
   ]
  },
  {
   "cell_type": "code",
   "execution_count": 17,
   "metadata": {},
   "outputs": [
    {
     "data": {
      "text/plain": [
       "[1540, 1541, 1542]"
      ]
     },
     "execution_count": 17,
     "metadata": {},
     "output_type": "execute_result"
    }
   ],
   "source": [
    "index_del = df[~df['activity'].str.contains('<|>')][df[~df['activity'].str.contains('<|>')]['activity'].astype('float64') == 0].index.to_list()\n",
    "index_del"
   ]
  },
  {
   "cell_type": "markdown",
   "metadata": {},
   "source": [
    "# 删除活性值为0的数据"
   ]
  },
  {
   "cell_type": "code",
   "execution_count": 18,
   "metadata": {},
   "outputs": [
    {
     "name": "stdout",
     "output_type": "stream",
     "text": [
      "(5923, 14)\n",
      "(5920, 14)\n"
     ]
    }
   ],
   "source": [
    "print(df.shape)\n",
    "df.drop(index=index_del, inplace=True)\n",
    "print(df.shape)"
   ]
  },
  {
   "cell_type": "markdown",
   "metadata": {},
   "source": [
    "# 查看重复数据数量"
   ]
  },
  {
   "cell_type": "code",
   "execution_count": 19,
   "metadata": {},
   "outputs": [
    {
     "data": {
      "text/plain": [
       "965"
      ]
     },
     "execution_count": 19,
     "metadata": {},
     "output_type": "execute_result"
    }
   ],
   "source": [
    "df.shape[0] - len(df.groupby('Ligand SMILES'))"
   ]
  },
  {
   "cell_type": "markdown",
   "metadata": {},
   "source": [
    "# 回归模型中的重复值及大小于号处理\n",
    "不重复分子<br />\n",
    "* 数值型直接保存<br />\n",
    "* 带符号则判断与min_cutoff和max_cutoff关系，在阈值范围内则保留<br />\n",
    "\n",
    "重复分子<br />\n",
    "* 都为数值型。计算相差倍数，相差100倍以内用平均值表示，相差100倍以上舍弃。<br />\n",
    "* 都含大于号，取最大值，判断与阈值max_cutoff关系，并做处理<br />\n",
    "* 只含大于和数值，判断是否冲突，是则舍弃，否则保留数值<br />\n",
    "* 都含小于号，取最小值，判断与阈值min_cutoff关系，并做处理<br />\n",
    "* 只含小于和数值，判断是否冲突，按需保留<br />\n",
    "* 大小于混在一起，且没有数值，判断是否冲突<br />\n",
    "* 大小于混在一起，但含有数值，看是否冲突，冲突则舍弃，不冲突保留活性值。"
   ]
  },
  {
   "cell_type": "code",
   "execution_count": 20,
   "metadata": {},
   "outputs": [],
   "source": [
    "def affinityProcess(df, smiles_col, affinity_col, min_cutoff, max_cutoff):\n",
    "    '''Group by smiles_col and scrutinize activity_col.\n",
    "    \n",
    "    df: dataframe containing smiles and affinity.\n",
    "    smiles_col: the name of the column contains smiles.\n",
    "    affinity_col: the name of the column contains affinity.\n",
    "    min_cutoff: when the affinity contains \"<\" and the following number lower\n",
    "                than min_cutoff, the affinity will be conserved.\n",
    "    max_cutoff: when the affinity contains \">\" and the following number greater\n",
    "                than max_cutoff, the affinity will be conserved.\n",
    "    '''\n",
    "    def numberTerminator(seq, index):\n",
    "        '''Handle the (duplicated) number(s) without any notations.\n",
    "        \n",
    "        seq: a (list of) number(s) for the duplicate record(s).\n",
    "        index: the index of the duplicate record(s).\n",
    "        '''\n",
    "        if isinstance(seq, list):\n",
    "            if max(seq) / min(seq) > 100:\n",
    "                df.loc[index, 'flag'] = 'del'\n",
    "            else:\n",
    "                df.loc[index, affinity_col] = np.mean(seq)\n",
    "        else:\n",
    "            df.loc[index, affinity_col] = seq\n",
    "            \n",
    "    def notationTerminator(symbol, number, index):\n",
    "        '''Handle the number(s) with notations.\n",
    "        \n",
    "        symbol: \"<\" or \">\"\n",
    "        number: a (list of) number(s) for the duplicate record(s).\n",
    "        index: the index of the duplicate record(s).\n",
    "        '''\n",
    "        if symbol == '<':\n",
    "            if isinstance(number, list):\n",
    "                number = min(number)\n",
    "            if number < min_cutoff:\n",
    "                df.loc[index, affinity_col] = number / 2\n",
    "            else:\n",
    "                df.loc[index, 'flag'] = 'del'\n",
    "        else:\n",
    "            if isinstance(number, list):\n",
    "                number = max(number)\n",
    "            if number > max_cutoff:\n",
    "                df.loc[index, 'flag'] = 'random'\n",
    "            else:\n",
    "                df.loc[index, 'flag'] = 'del'\n",
    "\n",
    "    def valueToNumber(value):\n",
    "        '''Transform the scientific notation or string into numbers.'''\n",
    "        value = str(value).strip('> <')\n",
    "        if 'e' in value:\n",
    "            v1, v2 = value.split('e')\n",
    "            value = float(v1) * 10 ** float(v2)\n",
    "            return value\n",
    "        else:\n",
    "            return float(value)\n",
    "\n",
    "    for smi, group in df.groupby(smiles_col):\n",
    "        judge = ''.join(map(str, list(group[affinity_col]))) # string\n",
    "        index = group.index.tolist()\n",
    "\n",
    "        # Unique data\n",
    "        if len(group) == 1:\n",
    "            data_num = valueToNumber(judge) # number\n",
    "            if '<' in judge:\n",
    "                notationTerminator('<', data_num, index)\n",
    "            elif '>' in judge:\n",
    "                notationTerminator('>', data_num, index)\n",
    "            else:\n",
    "                numberTerminator(data_num, index)\n",
    "                \n",
    "        # duplicate data\n",
    "        elif len(group) >1:\n",
    "            amount = len(group)\n",
    "\n",
    "            # contains only numbers\n",
    "            if '<' not in judge and '>' not in judge:\n",
    "                seq = list(group[affinity_col].apply(valueToNumber))\n",
    "                numberTerminator(seq, index)\n",
    "\n",
    "            # contain “>”, without “<”\n",
    "            elif '<' not in judge and '>' in judge:\n",
    "                # all contain “>”\n",
    "                if judge.count('>') == amount:\n",
    "                    seq = list(group[affinity_col].apply(valueToNumber))\n",
    "                    notationTerminator('>', seq, index)\n",
    "                # contain “>” and numbers\n",
    "                else:\n",
    "                    imax = np.inf\n",
    "                    imin = -np.inf\n",
    "                    iseq = []\n",
    "                    for i, row in group.iterrows():\n",
    "                        act = str(row[affinity_col])\n",
    "                        act_num = valueToNumber(act)\n",
    "                        if '>' in act:\n",
    "                            imin = max(imin, act_num)\n",
    "                        else:\n",
    "                            imax = min(imax, act_num)\n",
    "                            iseq.append(act_num)\n",
    "                    # reasonable or not\n",
    "                    if imax > imin:\n",
    "                        numberTerminator(iseq, index)\n",
    "                    else:\n",
    "                        df.loc[index, 'flag'] = 'del'\n",
    "\n",
    "            # contain “<”, without“>”\n",
    "            elif '>' not in judge and '<' in judge:\n",
    "                # all contain “<”\n",
    "                if judge.count('<') == amount:\n",
    "                    seq = list(group[affinity_col].apply(valueToNumber))\n",
    "                    notationTerminator('<', seq, index)\n",
    "                # contain “<” and numbers\n",
    "                else:\n",
    "                    imax = -np.inf\n",
    "                    imin = np.inf\n",
    "                    iseq = []\n",
    "                    for i, row in group.iterrows():\n",
    "                        act = str(row[affinity_col])\n",
    "                        act_num = valueToNumber(act)\n",
    "                        if '<' in act:\n",
    "                            imin = min(imin, act_num)\n",
    "                        else:\n",
    "                            imax = max(imax, act_num)\n",
    "                            iseq.append(act_num)\n",
    "                    # logical or not\n",
    "                    if imax < imin:\n",
    "                        numberTerminator(iseq, index)\n",
    "                    else:\n",
    "                        df.loc[index, 'flag'] = 'del'\n",
    "                        \n",
    "            # contain both \"<\" and \">\"\n",
    "            else:\n",
    "                imax = np.inf\n",
    "                imin = -np.inf\n",
    "                iseq = []\n",
    "                for i, row in group.iterrows():\n",
    "                    act = str(row[affinity_col])\n",
    "                    act_num = valueToNumber(act)\n",
    "                    if '>' in act:\n",
    "                        imin = max(imin, act_num)\n",
    "                    elif '<' in act:\n",
    "                        imax = min(imax, act_num)\n",
    "                    else:\n",
    "                        iseq.append(act_num)\n",
    "                # reasonable  or not\n",
    "                if imax > imin:\n",
    "                    if iseq:\n",
    "                        if imax > max(iseq) and min(iseq) > imin:\n",
    "                            numberTerminator(iseq, index)\n",
    "                        else:\n",
    "                            df.loc[index, 'flag'] = 'del'\n",
    "                    else:\n",
    "                        numberTerminator([imin, imax], index)\n",
    "                else:\n",
    "                    df.loc[index, 'flag'] = 'del'"
   ]
  },
  {
   "cell_type": "code",
   "execution_count": 21,
   "metadata": {},
   "outputs": [],
   "source": [
    "affinityProcess(df, 'Ligand SMILES', 'activity', 11, 0)"
   ]
  },
  {
   "cell_type": "markdown",
   "metadata": {},
   "source": [
    "# 检查并删除有冲突的分子"
   ]
  },
  {
   "cell_type": "code",
   "execution_count": 23,
   "metadata": {},
   "outputs": [
    {
     "name": "stdout",
     "output_type": "stream",
     "text": [
      "(456, 15)\n"
     ]
    },
    {
     "data": {
      "text/html": [
       "<div>\n",
       "<style scoped>\n",
       "    .dataframe tbody tr th:only-of-type {\n",
       "        vertical-align: middle;\n",
       "    }\n",
       "\n",
       "    .dataframe tbody tr th {\n",
       "        vertical-align: top;\n",
       "    }\n",
       "\n",
       "    .dataframe thead th {\n",
       "        text-align: right;\n",
       "    }\n",
       "</style>\n",
       "<table border=\"1\" class=\"dataframe\">\n",
       "  <thead>\n",
       "    <tr style=\"text-align: right;\">\n",
       "      <th></th>\n",
       "      <th>BindingDB MonomerID</th>\n",
       "      <th>Ligand SMILES</th>\n",
       "      <th>BindingDB Ligand Name</th>\n",
       "      <th>Ki (nM)</th>\n",
       "      <th>IC50 (nM)</th>\n",
       "      <th>Kd (nM)</th>\n",
       "      <th>EC50 (nM)</th>\n",
       "      <th>pH</th>\n",
       "      <th>Article DOI</th>\n",
       "      <th>PMID</th>\n",
       "      <th>PubChem AID</th>\n",
       "      <th>Patent Number</th>\n",
       "      <th>activity</th>\n",
       "      <th>unit</th>\n",
       "      <th>flag</th>\n",
       "    </tr>\n",
       "  </thead>\n",
       "  <tbody>\n",
       "    <tr>\n",
       "      <th>8</th>\n",
       "      <td>50396074</td>\n",
       "      <td>COc1ccc(cc1OC)-c1cc2nccn2c(Nc2ccc3cn[nH]c3c2)n1</td>\n",
       "      <td>CHEMBL2170585</td>\n",
       "      <td>10</td>\n",
       "      <td></td>\n",
       "      <td></td>\n",
       "      <td></td>\n",
       "      <td>NaN</td>\n",
       "      <td>10.1021/jm201271b</td>\n",
       "      <td>22257213.0</td>\n",
       "      <td>NaN</td>\n",
       "      <td>NaN</td>\n",
       "      <td>10</td>\n",
       "      <td>Ki (nM)</td>\n",
       "      <td>del</td>\n",
       "    </tr>\n",
       "    <tr>\n",
       "      <th>15</th>\n",
       "      <td>60665</td>\n",
       "      <td>COc1cc(Nc2ncc(F)c(Nc3ccc4OC(C)(C)C(=O)Nc4n3)n2...</td>\n",
       "      <td>BDBM50249542::US9145414, R406::US9212178, R406</td>\n",
       "      <td>30</td>\n",
       "      <td></td>\n",
       "      <td></td>\n",
       "      <td></td>\n",
       "      <td>NaN</td>\n",
       "      <td>10.1021/jm201271b</td>\n",
       "      <td>22257213.0</td>\n",
       "      <td>NaN</td>\n",
       "      <td>NaN</td>\n",
       "      <td>30</td>\n",
       "      <td>Ki (nM)</td>\n",
       "      <td>del</td>\n",
       "    </tr>\n",
       "    <tr>\n",
       "      <th>29</th>\n",
       "      <td>50249540</td>\n",
       "      <td>C[C@H](CO)NC(=O)c1sc(nc1C)-c1ccnc(Nc2cc(C)cc(C...</td>\n",
       "      <td>(R)-2-(2-(3,5-dimethylphenylamino)pyrimidin-4-...</td>\n",
       "      <td>210</td>\n",
       "      <td></td>\n",
       "      <td></td>\n",
       "      <td></td>\n",
       "      <td>NaN</td>\n",
       "      <td>10.1016/j.bmcl.2008.09.106</td>\n",
       "      <td>18938080.0</td>\n",
       "      <td>NaN</td>\n",
       "      <td>NaN</td>\n",
       "      <td>210</td>\n",
       "      <td>Ki (nM)</td>\n",
       "      <td>del</td>\n",
       "    </tr>\n",
       "  </tbody>\n",
       "</table>\n",
       "</div>"
      ],
      "text/plain": [
       "    BindingDB MonomerID                                      Ligand SMILES  \\\n",
       "8              50396074    COc1ccc(cc1OC)-c1cc2nccn2c(Nc2ccc3cn[nH]c3c2)n1   \n",
       "15                60665  COc1cc(Nc2ncc(F)c(Nc3ccc4OC(C)(C)C(=O)Nc4n3)n2...   \n",
       "29             50249540  C[C@H](CO)NC(=O)c1sc(nc1C)-c1ccnc(Nc2cc(C)cc(C...   \n",
       "\n",
       "                                BindingDB Ligand Name Ki (nM) IC50 (nM)  \\\n",
       "8                                       CHEMBL2170585      10             \n",
       "15     BDBM50249542::US9145414, R406::US9212178, R406      30             \n",
       "29  (R)-2-(2-(3,5-dimethylphenylamino)pyrimidin-4-...     210             \n",
       "\n",
       "   Kd (nM) EC50 (nM)  pH                 Article DOI        PMID PubChem AID  \\\n",
       "8                    NaN           10.1021/jm201271b  22257213.0         NaN   \n",
       "15                   NaN           10.1021/jm201271b  22257213.0         NaN   \n",
       "29                   NaN  10.1016/j.bmcl.2008.09.106  18938080.0         NaN   \n",
       "\n",
       "   Patent Number activity     unit flag  \n",
       "8            NaN       10  Ki (nM)  del  \n",
       "15           NaN       30  Ki (nM)  del  \n",
       "29           NaN      210  Ki (nM)  del  "
      ]
     },
     "execution_count": 23,
     "metadata": {},
     "output_type": "execute_result"
    }
   ],
   "source": [
    "df_del = df[df['flag'] == 'del']\n",
    "print(df_del.shape)\n",
    "df_del.head(3)"
   ]
  },
  {
   "cell_type": "code",
   "execution_count": 24,
   "metadata": {},
   "outputs": [],
   "source": [
    "df.drop(index=df_del.index, inplace=True)"
   ]
  },
  {
   "cell_type": "code",
   "execution_count": 25,
   "metadata": {},
   "outputs": [
    {
     "name": "stdout",
     "output_type": "stream",
     "text": [
      "(339, 15)\n"
     ]
    },
    {
     "data": {
      "text/html": [
       "<div>\n",
       "<style scoped>\n",
       "    .dataframe tbody tr th:only-of-type {\n",
       "        vertical-align: middle;\n",
       "    }\n",
       "\n",
       "    .dataframe tbody tr th {\n",
       "        vertical-align: top;\n",
       "    }\n",
       "\n",
       "    .dataframe thead th {\n",
       "        text-align: right;\n",
       "    }\n",
       "</style>\n",
       "<table border=\"1\" class=\"dataframe\">\n",
       "  <thead>\n",
       "    <tr style=\"text-align: right;\">\n",
       "      <th></th>\n",
       "      <th>BindingDB MonomerID</th>\n",
       "      <th>Ligand SMILES</th>\n",
       "      <th>BindingDB Ligand Name</th>\n",
       "      <th>Ki (nM)</th>\n",
       "      <th>IC50 (nM)</th>\n",
       "      <th>Kd (nM)</th>\n",
       "      <th>EC50 (nM)</th>\n",
       "      <th>pH</th>\n",
       "      <th>Article DOI</th>\n",
       "      <th>PMID</th>\n",
       "      <th>PubChem AID</th>\n",
       "      <th>Patent Number</th>\n",
       "      <th>activity</th>\n",
       "      <th>unit</th>\n",
       "      <th>flag</th>\n",
       "    </tr>\n",
       "  </thead>\n",
       "  <tbody>\n",
       "    <tr>\n",
       "      <th>38</th>\n",
       "      <td>50313051</td>\n",
       "      <td>COc1ccc(cc1)-c1[nH][nH]c(=O)c1N=Nc1cccnc1</td>\n",
       "      <td>(Z)-3-(4-methoxyphenyl)-4-(2-(pyridin-3-yl)hyd...</td>\n",
       "      <td>&gt;4000</td>\n",
       "      <td></td>\n",
       "      <td></td>\n",
       "      <td></td>\n",
       "      <td>NaN</td>\n",
       "      <td>10.1016/j.bmcl.2010.01.072</td>\n",
       "      <td>20138514.0</td>\n",
       "      <td>NaN</td>\n",
       "      <td>NaN</td>\n",
       "      <td>&gt;4000</td>\n",
       "      <td>Ki (nM)</td>\n",
       "      <td>random</td>\n",
       "    </tr>\n",
       "    <tr>\n",
       "      <th>39</th>\n",
       "      <td>50067541</td>\n",
       "      <td>Fc1cnc2[nH]cc(-c3ncc(F)c(N[C@H]4C5CCC(CC5)[C@@...</td>\n",
       "      <td>CHEMBL3401975</td>\n",
       "      <td>&gt;4000</td>\n",
       "      <td></td>\n",
       "      <td></td>\n",
       "      <td></td>\n",
       "      <td>NaN</td>\n",
       "      <td>10.1016/j.bmcl.2015.03.013</td>\n",
       "      <td>25827523.0</td>\n",
       "      <td>NaN</td>\n",
       "      <td>NaN</td>\n",
       "      <td>&gt;4000</td>\n",
       "      <td>Ki (nM)</td>\n",
       "      <td>random</td>\n",
       "    </tr>\n",
       "    <tr>\n",
       "      <th>40</th>\n",
       "      <td>50067520</td>\n",
       "      <td>Fc1cnc2[nH]cc(-c3ncc(F)c(N[C@H]4C5CCC(CC5)[C@@...</td>\n",
       "      <td>CHEMBL3401982</td>\n",
       "      <td>&gt;4000</td>\n",
       "      <td></td>\n",
       "      <td></td>\n",
       "      <td></td>\n",
       "      <td>NaN</td>\n",
       "      <td>10.1016/j.bmcl.2015.03.013</td>\n",
       "      <td>25827523.0</td>\n",
       "      <td>NaN</td>\n",
       "      <td>NaN</td>\n",
       "      <td>&gt;4000</td>\n",
       "      <td>Ki (nM)</td>\n",
       "      <td>random</td>\n",
       "    </tr>\n",
       "  </tbody>\n",
       "</table>\n",
       "</div>"
      ],
      "text/plain": [
       "    BindingDB MonomerID                                      Ligand SMILES  \\\n",
       "38             50313051          COc1ccc(cc1)-c1[nH][nH]c(=O)c1N=Nc1cccnc1   \n",
       "39             50067541  Fc1cnc2[nH]cc(-c3ncc(F)c(N[C@H]4C5CCC(CC5)[C@@...   \n",
       "40             50067520  Fc1cnc2[nH]cc(-c3ncc(F)c(N[C@H]4C5CCC(CC5)[C@@...   \n",
       "\n",
       "                                BindingDB Ligand Name Ki (nM) IC50 (nM)  \\\n",
       "38  (Z)-3-(4-methoxyphenyl)-4-(2-(pyridin-3-yl)hyd...   >4000             \n",
       "39                                      CHEMBL3401975   >4000             \n",
       "40                                      CHEMBL3401982   >4000             \n",
       "\n",
       "   Kd (nM) EC50 (nM)  pH                 Article DOI        PMID PubChem AID  \\\n",
       "38                   NaN  10.1016/j.bmcl.2010.01.072  20138514.0         NaN   \n",
       "39                   NaN  10.1016/j.bmcl.2015.03.013  25827523.0         NaN   \n",
       "40                   NaN  10.1016/j.bmcl.2015.03.013  25827523.0         NaN   \n",
       "\n",
       "   Patent Number activity     unit    flag  \n",
       "38           NaN    >4000  Ki (nM)  random  \n",
       "39           NaN    >4000  Ki (nM)  random  \n",
       "40           NaN    >4000  Ki (nM)  random  "
      ]
     },
     "execution_count": 25,
     "metadata": {},
     "output_type": "execute_result"
    }
   ],
   "source": [
    "df_del = df[df['flag'] == 'random']\n",
    "print(df_del.shape)\n",
    "df_del.head(3)"
   ]
  },
  {
   "cell_type": "code",
   "execution_count": 26,
   "metadata": {},
   "outputs": [],
   "source": [
    "df.drop(index=df_del.index, inplace=True)"
   ]
  },
  {
   "cell_type": "markdown",
   "metadata": {},
   "source": [
    "# 修改数据类型"
   ]
  },
  {
   "cell_type": "code",
   "execution_count": 27,
   "metadata": {},
   "outputs": [],
   "source": [
    "df['activity'] = df['activity'].astype('float64')"
   ]
  },
  {
   "cell_type": "markdown",
   "metadata": {},
   "source": [
    "# 对清洗后的数据取对数，并计算统计量"
   ]
  },
  {
   "cell_type": "code",
   "execution_count": 28,
   "metadata": {},
   "outputs": [
    {
     "data": {
      "text/plain": [
       "count    5125.000000\n",
       "mean        1.754211\n",
       "std         1.082660\n",
       "min        -2.000000\n",
       "25%         1.009451\n",
       "50%         1.740363\n",
       "75%         2.524396\n",
       "max         7.079181\n",
       "Name: logA, dtype: float64"
      ]
     },
     "execution_count": 28,
     "metadata": {},
     "output_type": "execute_result"
    }
   ],
   "source": [
    "df['logA'] = df['activity'].apply(np.log10)\n",
    "df['logA'].describe()"
   ]
  },
  {
   "cell_type": "markdown",
   "metadata": {},
   "source": [
    "# 绘制直方图"
   ]
  },
  {
   "cell_type": "code",
   "execution_count": 29,
   "metadata": {},
   "outputs": [
    {
     "data": {
      "text/plain": [
       "<matplotlib.axes._subplots.AxesSubplot at 0x89ac348>"
      ]
     },
     "execution_count": 29,
     "metadata": {},
     "output_type": "execute_result"
    },
    {
     "data": {
      "image/png": "[encoded data removed]",
      "text/plain": [
       "<Figure size 432x288 with 1 Axes>"
      ]
     },
     "metadata": {
      "needs_background": "light"
     },
     "output_type": "display_data"
    }
   ],
   "source": [
    "df['logA'].plot(kind='hist')"
   ]
  },
  {
   "cell_type": "markdown",
   "metadata": {},
   "source": [
    "类似于一个正态分布，但好像有点左偏，绘制更细致的直方图"
   ]
  },
  {
   "cell_type": "code",
   "execution_count": 30,
   "metadata": {},
   "outputs": [
    {
     "data": {
      "image/png": "[encoded data removed]",
      "text/plain": [
       "<Figure size 432x288 with 1 Axes>"
      ]
     },
     "metadata": {
      "needs_background": "light"
     },
     "output_type": "display_data"
    }
   ],
   "source": [
    "n, bins, patches = plt.hist(x=df['logA'], bins='auto', color='#0504aa', alpha=0.7, rwidth=0.8)"
   ]
  },
  {
   "cell_type": "markdown",
   "metadata": {},
   "source": [
    "# 计算偏度和峰度"
   ]
  },
  {
   "cell_type": "code",
   "execution_count": 31,
   "metadata": {},
   "outputs": [
    {
     "data": {
      "text/plain": [
       "0.06183979509247318"
      ]
     },
     "execution_count": 31,
     "metadata": {},
     "output_type": "execute_result"
    }
   ],
   "source": [
    "df['logA'].skew()"
   ]
  },
  {
   "cell_type": "code",
   "execution_count": 32,
   "metadata": {},
   "outputs": [
    {
     "data": {
      "text/plain": [
       "0.535388994441349"
      ]
     },
     "execution_count": 32,
     "metadata": {},
     "output_type": "execute_result"
    }
   ],
   "source": [
    "df['logA'].kurt()"
   ]
  },
  {
   "cell_type": "markdown",
   "metadata": {},
   "source": [
    "偏度大于0属于正偏态，偏度约0.1，稍有右偏"
   ]
  },
  {
   "cell_type": "markdown",
   "metadata": {},
   "source": [
    "# 右偏矫正（不做也罢）"
   ]
  },
  {
   "cell_type": "code",
   "execution_count": 33,
   "metadata": {},
   "outputs": [],
   "source": [
    "df['logA'] = df['activity'].apply(lambda x: np.log10(x-0.009))"
   ]
  },
  {
   "cell_type": "code",
   "execution_count": 34,
   "metadata": {},
   "outputs": [
    {
     "data": {
      "text/plain": [
       "0.04451474423592537"
      ]
     },
     "execution_count": 34,
     "metadata": {},
     "output_type": "execute_result"
    }
   ],
   "source": [
    "df['logA'].skew()"
   ]
  },
  {
   "cell_type": "markdown",
   "metadata": {},
   "source": [
    "# 最后结果"
   ]
  },
  {
   "cell_type": "code",
   "execution_count": 35,
   "metadata": {},
   "outputs": [
    {
     "data": {
      "image/png": "[encoded data removed]",
      "text/plain": [
       "<Figure size 432x288 with 1 Axes>"
      ]
     },
     "metadata": {
      "needs_background": "light"
     },
     "output_type": "display_data"
    }
   ],
   "source": [
    "n, bins, patches = plt.hist(x=df['logA'], bins='auto', color='#0504aa', alpha=0.7, rwidth=0.8)"
   ]
  },
  {
   "cell_type": "markdown",
   "metadata": {},
   "source": [
    "# 箱线图"
   ]
  },
  {
   "cell_type": "code",
   "execution_count": 36,
   "metadata": {},
   "outputs": [
    {
     "data": {
      "image/png": "[encoded data removed]",
      "text/plain": [
       "<Figure size 72x504 with 1 Axes>"
      ]
     },
     "metadata": {
      "needs_background": "light"
     },
     "output_type": "display_data"
    }
   ],
   "source": [
    "f, ax = plt.subplots(figsize=(1, 7))\n",
    "ax = sns.boxplot(data=df['logA'] , orient=\"v\", palette=\"Set1\")"
   ]
  }
 ],
 "metadata": {
  "kernelspec": {
   "display_name": "Python 3",
   "language": "python",
   "name": "python3"
  },
  "language_info": {
   "codemirror_mode": {
    "name": "ipython",
    "version": 3
   },
   "file_extension": ".py",
   "mimetype": "text/x-python",
   "name": "python",
   "nbconvert_exporter": "python",
   "pygments_lexer": "ipython3",
   "version": "3.7.6"
  }
 },
 "nbformat": 4,
 "nbformat_minor": 4
}
