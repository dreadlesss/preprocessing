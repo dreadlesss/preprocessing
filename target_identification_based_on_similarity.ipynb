{
 "cells": [
  {
   "cell_type": "code",
   "execution_count": 1,
   "metadata": {},
   "outputs": [],
   "source": [
    "import pandas as pd\n",
    "import requests\n",
    "from bs4 import BeautifulSoup\n",
    "from rdkit import Chem\n",
    "from rdkit.Chem import Draw"
   ]
  },
  {
   "cell_type": "code",
   "execution_count": 2,
   "metadata": {},
   "outputs": [],
   "source": [
    "def convert(value):\n",
    "    '''Convert scientific notation to numbers'''\n",
    "    if 'e' in value:\n",
    "        v1, v2 = value.split('e')\n",
    "        num = float(v1) * 10 ** (int(v2))\n",
    "        return str(num)\n",
    "    else:\n",
    "        return value\n",
    "    \n",
    "class webService():\n",
    "    '''Calculate the similarity between query molecule and molecules in BindingDB database,\n",
    "    retrieve the most similar molecule(s) and corresponding target by the cutoff, astertain\n",
    "    the possible target by the available data.\n",
    "    \n",
    "    Examples\n",
    "    --------\n",
    "    Retrieve the similar molecules and target by the query smiles and cutoff:\n",
    "    >>> web = webService('c1ccccc1', '0.8')\n",
    "    >>> res = web.targetBySimilarity()\n",
    "    >>> res.head(3)\n",
    "    ...\n",
    "    \n",
    "    Sort the data by a particular column:\n",
    "    >>> df_sorted = web.sortCol()\n",
    "    ...\n",
    "    \n",
    "    draw the top n mols:\n",
    "    >>> web.drawMols()\n",
    "\n",
    "    '''\n",
    "    def __init__(self, smiles, cutoff):\n",
    "        self.smiles = smiles\n",
    "        self.cutoff = cutoff\n",
    "        self.df_sorted = None\n",
    "    \n",
    "    def targetBySimilarity(self):\n",
    "        '''Searching on the BindingDB database and parse the xml'''\n",
    "        # requests\n",
    "        r = requests.get('http://bindingdb.org/axis2/services/BDBService/getTargetByCompound?smiles={}&cutoff={}'.format(self.smiles, self.cutoff))\n",
    "        encode = r.encoding\n",
    "        print(r.status_code, encode)\n",
    "\n",
    "        # parse xml\n",
    "        soup = BeautifulSoup(r.content.decode('utf-8'), 'lxml')\n",
    "        props = ['bdb:monomerid', 'bdb:inhibitor', 'bdb:target', 'bdb:uniprot', 'bdb:species', 'bdb:affinity_type',\n",
    "                'bdb:affinity', 'bdb:doi', 'bdb:smiles', 'bdb:inchi', 'bdb:tanimoto']\n",
    "        extrs = []\n",
    "        for link in soup.find_all('bdb:affinities'):\n",
    "            extr = []\n",
    "            for prop in props:\n",
    "                prop_value = link.find(prop).string\n",
    "                extr.append(prop_value)\n",
    "            extrs.append(extr)\n",
    "        # convert to df\n",
    "        cols = list(map(lambda x: x[4:], props))\n",
    "        self.df = pd.DataFrame(extrs, columns=cols)\n",
    "        return self.df\n",
    "        \n",
    "    def sortCol(self, col='affinity'):\n",
    "        '''Retrieve the records without \"<|>\" and sort the value'''\n",
    "        df[col] = df[col].apply(convert)\n",
    "        self.df_sorted = df[~df[col].str.contains('<|>')].sort_values(by=col)\n",
    "        return self.df_sorted\n",
    "\n",
    "    def drawMol(self, n=1, molsPerRow=4):\n",
    "        '''Draw the top n mols'''\n",
    "        if not isinstance(self.df_sorted, pd.DataFrame):\n",
    "            self.sortCol()\n",
    "        \n",
    "        mols = self.df_sorted['smiles'].apply(Chem.MolFromSmiles).tolist()\n",
    "        imgs = Draw.MolsToGridImage(mols, maxMols=n, molsPerRow=molsPerRow)\n",
    "        return imgs"
   ]
  },
  {
   "cell_type": "markdown",
   "metadata": {},
   "source": [
    "# 设置一个要查询的smiles"
   ]
  },
  {
   "cell_type": "code",
   "execution_count": 3,
   "metadata": {},
   "outputs": [
    {
     "data": {
      "image/png": "[encoded data removed]",
      "text/plain": [
       "<rdkit.Chem.rdchem.Mol at 0x8c5e9e0>"
      ]
     },
     "execution_count": 3,
     "metadata": {},
     "output_type": "execute_result"
    }
   ],
   "source": [
    "smiles = 'CC1=CC(O)=C2C(=O)C3=C(O)C=C(O)C=C3C(=O)C2=C1'\n",
    "Chem.MolFromSmiles(smiles)"
   ]
  },
  {
   "cell_type": "markdown",
   "metadata": {},
   "source": [
    "# 设置阈值并进行搜库"
   ]
  },
  {
   "cell_type": "code",
   "execution_count": 4,
   "metadata": {},
   "outputs": [
    {
     "name": "stdout",
     "output_type": "stream",
     "text": [
      "200 UTF-8\n"
     ]
    },
    {
     "data": {
      "text/html": [
       "<div>\n",
       "<style scoped>\n",
       "    .dataframe tbody tr th:only-of-type {\n",
       "        vertical-align: middle;\n",
       "    }\n",
       "\n",
       "    .dataframe tbody tr th {\n",
       "        vertical-align: top;\n",
       "    }\n",
       "\n",
       "    .dataframe thead th {\n",
       "        text-align: right;\n",
       "    }\n",
       "</style>\n",
       "<table border=\"1\" class=\"dataframe\">\n",
       "  <thead>\n",
       "    <tr style=\"text-align: right;\">\n",
       "      <th></th>\n",
       "      <th>monomerid</th>\n",
       "      <th>inhibitor</th>\n",
       "      <th>target</th>\n",
       "      <th>uniprot</th>\n",
       "      <th>species</th>\n",
       "      <th>affinity_type</th>\n",
       "      <th>affinity</th>\n",
       "      <th>doi</th>\n",
       "      <th>smiles</th>\n",
       "      <th>inchi</th>\n",
       "      <th>tanimoto</th>\n",
       "    </tr>\n",
       "  </thead>\n",
       "  <tbody>\n",
       "    <tr>\n",
       "      <th>0</th>\n",
       "      <td>50005912</td>\n",
       "      <td>BDBM50005912</td>\n",
       "      <td>Leukocyte elastase</td>\n",
       "      <td>P08246</td>\n",
       "      <td>Homo sapiens (Human)</td>\n",
       "      <td>IC50</td>\n",
       "      <td>13000</td>\n",
       "      <td>10.1021/jm00087a014</td>\n",
       "      <td>Oc1cccc2C(=O)c3ccc(Cc4ccccc4)c(O)c3C(=O)c12</td>\n",
       "      <td>InChI=1S/C21H14O4/c22-16-8-4-7-14-17(16)21(25)...</td>\n",
       "      <td>0.89809</td>\n",
       "    </tr>\n",
       "  </tbody>\n",
       "</table>\n",
       "</div>"
      ],
      "text/plain": [
       "  monomerid     inhibitor              target uniprot               species  \\\n",
       "0  50005912  BDBM50005912  Leukocyte elastase  P08246  Homo sapiens (Human)   \n",
       "\n",
       "  affinity_type affinity                  doi  \\\n",
       "0          IC50    13000  10.1021/jm00087a014   \n",
       "\n",
       "                                        smiles  \\\n",
       "0  Oc1cccc2C(=O)c3ccc(Cc4ccccc4)c(O)c3C(=O)c12   \n",
       "\n",
       "                                               inchi tanimoto  \n",
       "0  InChI=1S/C21H14O4/c22-16-8-4-7-14-17(16)21(25)...  0.89809  "
      ]
     },
     "execution_count": 4,
     "metadata": {},
     "output_type": "execute_result"
    }
   ],
   "source": [
    "cutoff = '0.8'\n",
    "web = webService(smiles, cutoff)\n",
    "df = web.targetBySimilarity()\n",
    "df.head(1)"
   ]
  },
  {
   "cell_type": "markdown",
   "metadata": {},
   "source": [
    "# 对结果自动处理排序"
   ]
  },
  {
   "cell_type": "code",
   "execution_count": 5,
   "metadata": {},
   "outputs": [
    {
     "data": {
      "text/html": [
       "<div>\n",
       "<style scoped>\n",
       "    .dataframe tbody tr th:only-of-type {\n",
       "        vertical-align: middle;\n",
       "    }\n",
       "\n",
       "    .dataframe tbody tr th {\n",
       "        vertical-align: top;\n",
       "    }\n",
       "\n",
       "    .dataframe thead th {\n",
       "        text-align: right;\n",
       "    }\n",
       "</style>\n",
       "<table border=\"1\" class=\"dataframe\">\n",
       "  <thead>\n",
       "    <tr style=\"text-align: right;\">\n",
       "      <th></th>\n",
       "      <th>monomerid</th>\n",
       "      <th>inhibitor</th>\n",
       "      <th>target</th>\n",
       "      <th>uniprot</th>\n",
       "      <th>species</th>\n",
       "      <th>affinity_type</th>\n",
       "      <th>affinity</th>\n",
       "      <th>doi</th>\n",
       "      <th>smiles</th>\n",
       "      <th>inchi</th>\n",
       "      <th>tanimoto</th>\n",
       "    </tr>\n",
       "  </thead>\n",
       "  <tbody>\n",
       "    <tr>\n",
       "      <th>120</th>\n",
       "      <td>50041802</td>\n",
       "      <td>BDBM50041802</td>\n",
       "      <td>NAD-dependent protein deacetylase sirtuin-5 (S...</td>\n",
       "      <td>Q9NXA8</td>\n",
       "      <td>Homo sapiens (Human)</td>\n",
       "      <td>IC50</td>\n",
       "      <td>100</td>\n",
       "      <td>None</td>\n",
       "      <td>Oc1cccc2Cc3cccc(O)c3C(=O)c12</td>\n",
       "      <td>InChI=1S/C14H10O3/c15-10-5-1-3-8-7-9-4-2-6-11(...</td>\n",
       "      <td>0.76974</td>\n",
       "    </tr>\n",
       "    <tr>\n",
       "      <th>6</th>\n",
       "      <td>50041419</td>\n",
       "      <td>BDBM50041419</td>\n",
       "      <td>Human immunodeficiency virus type 1 integrase</td>\n",
       "      <td>None</td>\n",
       "      <td>Human immunodeficiency virus 1</td>\n",
       "      <td>IC50</td>\n",
       "      <td>1000</td>\n",
       "      <td>10.1021/jm990322h</td>\n",
       "      <td>Oc1ccc2C(=O)c3c(O)ccc(O)c3C(=O)c2c1O</td>\n",
       "      <td>InChI=1S/C14H8O6/c15-6-3-4-7(16)11-10(6)12(18)...</td>\n",
       "      <td>0.82911</td>\n",
       "    </tr>\n",
       "    <tr>\n",
       "      <th>163</th>\n",
       "      <td>50041782</td>\n",
       "      <td>BDBM50041782</td>\n",
       "      <td>Arachidonate 5-lipoxygenase</td>\n",
       "      <td>None</td>\n",
       "      <td>Bos taurus</td>\n",
       "      <td>IC50</td>\n",
       "      <td>1000</td>\n",
       "      <td>10.1021/jm00037a017</td>\n",
       "      <td>Oc1ccc(O)c(Cc2cc(O)c3C(=O)c4c(O)cccc4Cc3c2)c1</td>\n",
       "      <td>InChI=1S/C21H16O5/c22-15-4-5-16(23)13(10-15)6-...</td>\n",
       "      <td>0.83544</td>\n",
       "    </tr>\n",
       "  </tbody>\n",
       "</table>\n",
       "</div>"
      ],
      "text/plain": [
       "    monomerid     inhibitor  \\\n",
       "120  50041802  BDBM50041802   \n",
       "6    50041419  BDBM50041419   \n",
       "163  50041782  BDBM50041782   \n",
       "\n",
       "                                                target uniprot  \\\n",
       "120  NAD-dependent protein deacetylase sirtuin-5 (S...  Q9NXA8   \n",
       "6        Human immunodeficiency virus type 1 integrase    None   \n",
       "163                        Arachidonate 5-lipoxygenase    None   \n",
       "\n",
       "                            species affinity_type affinity  \\\n",
       "120            Homo sapiens (Human)          IC50      100   \n",
       "6    Human immunodeficiency virus 1          IC50     1000   \n",
       "163                      Bos taurus          IC50     1000   \n",
       "\n",
       "                     doi                                         smiles  \\\n",
       "120                 None                   Oc1cccc2Cc3cccc(O)c3C(=O)c12   \n",
       "6      10.1021/jm990322h           Oc1ccc2C(=O)c3c(O)ccc(O)c3C(=O)c2c1O   \n",
       "163  10.1021/jm00037a017  Oc1ccc(O)c(Cc2cc(O)c3C(=O)c4c(O)cccc4Cc3c2)c1   \n",
       "\n",
       "                                                 inchi tanimoto  \n",
       "120  InChI=1S/C14H10O3/c15-10-5-1-3-8-7-9-4-2-6-11(...  0.76974  \n",
       "6    InChI=1S/C14H8O6/c15-6-3-4-7(16)11-10(6)12(18)...  0.82911  \n",
       "163  InChI=1S/C21H16O5/c22-15-4-5-16(23)13(10-15)6-...  0.83544  "
      ]
     },
     "execution_count": 5,
     "metadata": {},
     "output_type": "execute_result"
    }
   ],
   "source": [
    "df_sorted = web.sortCol()\n",
    "df_sorted.head(3)"
   ]
  },
  {
   "cell_type": "markdown",
   "metadata": {},
   "source": [
    "# 查看分子结构"
   ]
  },
  {
   "cell_type": "code",
   "execution_count": 6,
   "metadata": {},
   "outputs": [
    {
     "name": "stderr",
     "output_type": "stream",
     "text": [
      "D:\\Anaconda3\\lib\\site-packages\\rdkit\\Chem\\Draw\\IPythonConsole.py:188: UserWarning: Truncating the list of molecules to be displayed to 3. Change the maxMols value to display more.\n",
      "  % (maxMols))\n"
     ]
    },
    {
     "data": {
      "image/png": "[encoded data removed]",
      "text/plain": [
       "<PIL.PngImagePlugin.PngImageFile image mode=RGB size=800x200 at 0x9198AC8>"
      ]
     },
     "execution_count": 6,
     "metadata": {},
     "output_type": "execute_result"
    }
   ],
   "source": [
    "imgs = web.drawMol(n=3)\n",
    "imgs"
   ]
  }
 ],
 "metadata": {
  "kernelspec": {
   "display_name": "Python 3",
   "language": "python",
   "name": "python3"
  },
  "language_info": {
   "codemirror_mode": {
    "name": "ipython",
    "version": 3
   },
   "file_extension": ".py",
   "mimetype": "text/x-python",
   "name": "python",
   "nbconvert_exporter": "python",
   "pygments_lexer": "ipython3",
   "version": "3.7.6"
  }
 },
 "nbformat": 4,
 "nbformat_minor": 4
}
