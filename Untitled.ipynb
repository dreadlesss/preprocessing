{
 "cells": [
  {
   "cell_type": "code",
   "execution_count": 90,
   "metadata": {},
   "outputs": [],
   "source": [
    "import pandas as pd\n",
    "import numpy as np"
   ]
  },
  {
   "cell_type": "code",
   "execution_count": 12,
   "metadata": {},
   "outputs": [
    {
     "name": "stdout",
     "output_type": "stream",
     "text": [
      "(5923, 61)\n"
     ]
    },
    {
     "data": {
      "text/html": [
       "<div>\n",
       "<style scoped>\n",
       "    .dataframe tbody tr th:only-of-type {\n",
       "        vertical-align: middle;\n",
       "    }\n",
       "\n",
       "    .dataframe tbody tr th {\n",
       "        vertical-align: top;\n",
       "    }\n",
       "\n",
       "    .dataframe thead th {\n",
       "        text-align: right;\n",
       "    }\n",
       "</style>\n",
       "<table border=\"1\" class=\"dataframe\">\n",
       "  <thead>\n",
       "    <tr style=\"text-align: right;\">\n",
       "      <th></th>\n",
       "      <th>BindingDB Reactant_set_id</th>\n",
       "      <th>Ligand SMILES</th>\n",
       "      <th>Ligand InChI</th>\n",
       "      <th>Ligand InChI Key</th>\n",
       "      <th>BindingDB MonomerID</th>\n",
       "      <th>BindingDB Ligand Name</th>\n",
       "      <th>Target Name Assigned by Curator or DataSource</th>\n",
       "      <th>Target Source Organism According to Curator or DataSource</th>\n",
       "      <th>Ki (nM)</th>\n",
       "      <th>IC50 (nM)</th>\n",
       "      <th>...</th>\n",
       "      <th>UniProt (SwissProt) Recommended Name of Target Chain.1</th>\n",
       "      <th>UniProt (SwissProt) Entry Name of Target Chain.1</th>\n",
       "      <th>UniProt (SwissProt) Primary ID of Target Chain.1</th>\n",
       "      <th>UniProt (SwissProt) Secondary ID(s) of Target Chain.1</th>\n",
       "      <th>UniProt (SwissProt) Alternative ID(s) of Target Chain.1</th>\n",
       "      <th>UniProt (TrEMBL) Submitted Name of Target Chain.1</th>\n",
       "      <th>UniProt (TrEMBL) Entry Name of Target Chain.1</th>\n",
       "      <th>UniProt (TrEMBL) Primary ID of Target Chain.1</th>\n",
       "      <th>UniProt (TrEMBL) Secondary ID(s) of Target Chain.1</th>\n",
       "      <th>UniProt (TrEMBL) Alternative ID(s) of Target Chain.1</th>\n",
       "    </tr>\n",
       "  </thead>\n",
       "  <tbody>\n",
       "    <tr>\n",
       "      <th>0</th>\n",
       "      <td>50965826</td>\n",
       "      <td>CNC(=O)COc1cccc(Nc2ncc(F)c(Nc3ccc4OC(F)(F)C(=O...</td>\n",
       "      <td>InChI=1S/C21H17F3N6O4/c1-25-17(31)10-33-13-4-2...</td>\n",
       "      <td>MOXXQFNQDDSJHT-UHFFFAOYSA-N</td>\n",
       "      <td>50396071</td>\n",
       "      <td>CHEMBL2170582</td>\n",
       "      <td>Tyrosine-protein kinase SYK</td>\n",
       "      <td>Homo sapiens</td>\n",
       "      <td>1.8</td>\n",
       "      <td>NaN</td>\n",
       "      <td>...</td>\n",
       "      <td>NaN</td>\n",
       "      <td>NaN</td>\n",
       "      <td>NaN</td>\n",
       "      <td>NaN</td>\n",
       "      <td>NaN</td>\n",
       "      <td>NaN</td>\n",
       "      <td>NaN</td>\n",
       "      <td>NaN</td>\n",
       "      <td>NaN</td>\n",
       "      <td>NaN</td>\n",
       "    </tr>\n",
       "  </tbody>\n",
       "</table>\n",
       "<p>1 rows × 61 columns</p>\n",
       "</div>"
      ],
      "text/plain": [
       "   BindingDB Reactant_set_id  \\\n",
       "0                   50965826   \n",
       "\n",
       "                                       Ligand SMILES  \\\n",
       "0  CNC(=O)COc1cccc(Nc2ncc(F)c(Nc3ccc4OC(F)(F)C(=O...   \n",
       "\n",
       "                                        Ligand InChI  \\\n",
       "0  InChI=1S/C21H17F3N6O4/c1-25-17(31)10-33-13-4-2...   \n",
       "\n",
       "              Ligand InChI Key  BindingDB MonomerID BindingDB Ligand Name  \\\n",
       "0  MOXXQFNQDDSJHT-UHFFFAOYSA-N             50396071         CHEMBL2170582   \n",
       "\n",
       "  Target Name Assigned by Curator or DataSource  \\\n",
       "0                   Tyrosine-protein kinase SYK   \n",
       "\n",
       "  Target Source Organism According to Curator or DataSource Ki (nM) IC50 (nM)  \\\n",
       "0                                       Homo sapiens            1.8       NaN   \n",
       "\n",
       "   ... UniProt (SwissProt) Recommended Name of Target Chain.1  \\\n",
       "0  ...                                                NaN       \n",
       "\n",
       "  UniProt (SwissProt) Entry Name of Target Chain.1  \\\n",
       "0                                              NaN   \n",
       "\n",
       "   UniProt (SwissProt) Primary ID of Target Chain.1  \\\n",
       "0                                               NaN   \n",
       "\n",
       "   UniProt (SwissProt) Secondary ID(s) of Target Chain.1  \\\n",
       "0                                                NaN       \n",
       "\n",
       "   UniProt (SwissProt) Alternative ID(s) of Target Chain.1  \\\n",
       "0                                                NaN         \n",
       "\n",
       "  UniProt (TrEMBL) Submitted Name of Target Chain.1  \\\n",
       "0                                               NaN   \n",
       "\n",
       "  UniProt (TrEMBL) Entry Name of Target Chain.1  \\\n",
       "0                                           NaN   \n",
       "\n",
       "  UniProt (TrEMBL) Primary ID of Target Chain.1  \\\n",
       "0                                           NaN   \n",
       "\n",
       "   UniProt (TrEMBL) Secondary ID(s) of Target Chain.1  \\\n",
       "0                                                NaN    \n",
       "\n",
       "  UniProt (TrEMBL) Alternative ID(s) of Target Chain.1  \n",
       "0                                                NaN    \n",
       "\n",
       "[1 rows x 61 columns]"
      ]
     },
     "execution_count": 12,
     "metadata": {},
     "output_type": "execute_result"
    }
   ],
   "source": [
    "file = 'D:\\\\学习课件\\\\405\\\\active_data.tsv'\n",
    "df_raw = pd.read_csv(file, sep='\\t')\n",
    "print(df_raw.shape)\n",
    "df_raw.head(1)"
   ]
  },
  {
   "cell_type": "code",
   "execution_count": 19,
   "metadata": {},
   "outputs": [
    {
     "data": {
      "text/plain": [
       "Index(['BindingDB Reactant_set_id', 'Ligand SMILES', 'Ligand InChI',\n",
       "       'Ligand InChI Key', 'BindingDB MonomerID', 'BindingDB Ligand Name',\n",
       "       'Target Name Assigned by Curator or DataSource',\n",
       "       'Target Source Organism According to Curator or DataSource', 'Ki (nM)',\n",
       "       'IC50 (nM)', 'Kd (nM)', 'EC50 (nM)', 'pH', 'Temp (C)',\n",
       "       'Curation/DataSource', 'Article DOI', 'PMID', 'PubChem AID',\n",
       "       'Patent Number', 'Authors', 'Institution',\n",
       "       'Link to Ligand in BindingDB', 'Link to Target in BindingDB',\n",
       "       'Link to Ligand-Target Pair in BindingDB', 'Ligand HET ID in PDB',\n",
       "       'PDB ID(s) for Ligand-Target Complex', 'PubChem CID', 'PubChem SID',\n",
       "       'ChEBI ID of Ligand', 'ChEMBL ID of Ligand', 'DrugBank ID of Ligand',\n",
       "       'IUPHAR_GRAC ID of Ligand', 'KEGG ID of Ligand', 'ZINC ID of Ligand',\n",
       "       'Number of Protein Chains in Target (>1 implies a multichain complex)',\n",
       "       'BindingDB Target Chain  Sequence', 'PDB ID(s) of Target Chain',\n",
       "       'UniProt (SwissProt) Recommended Name of Target Chain',\n",
       "       'UniProt (SwissProt) Entry Name of Target Chain',\n",
       "       'UniProt (SwissProt) Primary ID of Target Chain',\n",
       "       'BindingDB Target Chain  Sequence.1', 'PDB ID(s) of Target Chain.1',\n",
       "       'UniProt (SwissProt) Recommended Name of Target Chain.1',\n",
       "       'UniProt (SwissProt) Entry Name of Target Chain.1',\n",
       "       'UniProt (SwissProt) Primary ID of Target Chain.1',\n",
       "       'UniProt (SwissProt) Secondary ID(s) of Target Chain.1'],\n",
       "      dtype='object')"
      ]
     },
     "execution_count": 19,
     "metadata": {},
     "output_type": "execute_result"
    }
   ],
   "source": [
    "df_raw.columns"
   ]
  },
  {
   "cell_type": "code",
   "execution_count": 33,
   "metadata": {},
   "outputs": [
    {
     "data": {
      "text/html": [
       "<div>\n",
       "<style scoped>\n",
       "    .dataframe tbody tr th:only-of-type {\n",
       "        vertical-align: middle;\n",
       "    }\n",
       "\n",
       "    .dataframe tbody tr th {\n",
       "        vertical-align: top;\n",
       "    }\n",
       "\n",
       "    .dataframe thead th {\n",
       "        text-align: right;\n",
       "    }\n",
       "</style>\n",
       "<table border=\"1\" class=\"dataframe\">\n",
       "  <thead>\n",
       "    <tr style=\"text-align: right;\">\n",
       "      <th></th>\n",
       "      <th>BindingDB MonomerID</th>\n",
       "      <th>Ligand SMILES</th>\n",
       "      <th>BindingDB Ligand Name</th>\n",
       "      <th>Ki (nM)</th>\n",
       "      <th>IC50 (nM)</th>\n",
       "      <th>Kd (nM)</th>\n",
       "      <th>EC50 (nM)</th>\n",
       "      <th>pH</th>\n",
       "      <th>Article DOI</th>\n",
       "      <th>PMID</th>\n",
       "      <th>PubChem AID</th>\n",
       "      <th>Patent Number</th>\n",
       "    </tr>\n",
       "  </thead>\n",
       "  <tbody>\n",
       "    <tr>\n",
       "      <th>0</th>\n",
       "      <td>50396071</td>\n",
       "      <td>CNC(=O)COc1cccc(Nc2ncc(F)c(Nc3ccc4OC(F)(F)C(=O...</td>\n",
       "      <td>CHEMBL2170582</td>\n",
       "      <td>1.8</td>\n",
       "      <td>NaN</td>\n",
       "      <td>NaN</td>\n",
       "      <td>NaN</td>\n",
       "      <td>NaN</td>\n",
       "      <td>10.1021/jm201271b</td>\n",
       "      <td>22257213.0</td>\n",
       "      <td>NaN</td>\n",
       "      <td>NaN</td>\n",
       "    </tr>\n",
       "    <tr>\n",
       "      <th>1</th>\n",
       "      <td>50275934</td>\n",
       "      <td>Cc1cc(C)cc(Nc2nccc(n2)-c2ncc(CO)s2)c1</td>\n",
       "      <td>(2-(2-(3,5-dimethylphenylamino)pyrimidin-4-yl)...</td>\n",
       "      <td>4</td>\n",
       "      <td>NaN</td>\n",
       "      <td>NaN</td>\n",
       "      <td>NaN</td>\n",
       "      <td>NaN</td>\n",
       "      <td>10.1016/j.bmcl.2008.09.106</td>\n",
       "      <td>18938080.0</td>\n",
       "      <td>NaN</td>\n",
       "      <td>NaN</td>\n",
       "    </tr>\n",
       "    <tr>\n",
       "      <th>2</th>\n",
       "      <td>50325991</td>\n",
       "      <td>COc1ccc(cc1OC)-c1cc2nccn2c(Nc2ncccc2C(N)=O)n1</td>\n",
       "      <td>2-(7-(3,4-dimethoxyphenyl)imidazo[1,2-c]pyrimi...</td>\n",
       "      <td>7.5</td>\n",
       "      <td>NaN</td>\n",
       "      <td>NaN</td>\n",
       "      <td>NaN</td>\n",
       "      <td>NaN</td>\n",
       "      <td>10.1016/j.chembiol.2005.04.011</td>\n",
       "      <td>15975507.0</td>\n",
       "      <td>NaN</td>\n",
       "      <td>NaN</td>\n",
       "    </tr>\n",
       "  </tbody>\n",
       "</table>\n",
       "</div>"
      ],
      "text/plain": [
       "   BindingDB MonomerID                                      Ligand SMILES  \\\n",
       "0             50396071  CNC(=O)COc1cccc(Nc2ncc(F)c(Nc3ccc4OC(F)(F)C(=O...   \n",
       "1             50275934              Cc1cc(C)cc(Nc2nccc(n2)-c2ncc(CO)s2)c1   \n",
       "2             50325991      COc1ccc(cc1OC)-c1cc2nccn2c(Nc2ncccc2C(N)=O)n1   \n",
       "\n",
       "                               BindingDB Ligand Name Ki (nM) IC50 (nM)  \\\n",
       "0                                      CHEMBL2170582     1.8       NaN   \n",
       "1  (2-(2-(3,5-dimethylphenylamino)pyrimidin-4-yl)...       4       NaN   \n",
       "2  2-(7-(3,4-dimethoxyphenyl)imidazo[1,2-c]pyrimi...     7.5       NaN   \n",
       "\n",
       "  Kd (nM) EC50 (nM)  pH                     Article DOI        PMID  \\\n",
       "0     NaN       NaN NaN               10.1021/jm201271b  22257213.0   \n",
       "1     NaN       NaN NaN      10.1016/j.bmcl.2008.09.106  18938080.0   \n",
       "2     NaN       NaN NaN  10.1016/j.chembiol.2005.04.011  15975507.0   \n",
       "\n",
       "  PubChem AID Patent Number  \n",
       "0         NaN           NaN  \n",
       "1         NaN           NaN  \n",
       "2         NaN           NaN  "
      ]
     },
     "execution_count": 33,
     "metadata": {},
     "output_type": "execute_result"
    }
   ],
   "source": [
    "df = df_raw[['BindingDB MonomerID', 'Ligand SMILES', 'BindingDB Ligand Name', 'Ki (nM)', 'IC50 (nM)', \n",
    "            'Kd (nM)', 'EC50 (nM)', 'pH', 'Article DOI', 'PMID', 'PubChem AID', 'Patent Number']].copy(deep=True)\n",
    "df.head(3)"
   ]
  },
  {
   "cell_type": "markdown",
   "metadata": {},
   "source": [
    "# 删除全部为空的无用列"
   ]
  },
  {
   "cell_type": "code",
   "execution_count": 35,
   "metadata": {},
   "outputs": [
    {
     "name": "stdout",
     "output_type": "stream",
     "text": [
      "(5923, 12)\n",
      "(5923, 12)\n"
     ]
    }
   ],
   "source": [
    "print(df.shape)\n",
    "df.dropna(axis=1, how='all', inplace=True)\n",
    "print(df.shape)"
   ]
  },
  {
   "cell_type": "markdown",
   "metadata": {},
   "source": [
    "# 查看四个活性值均缺失的行"
   ]
  },
  {
   "cell_type": "code",
   "execution_count": 47,
   "metadata": {},
   "outputs": [
    {
     "data": {
      "text/html": [
       "<div>\n",
       "<style scoped>\n",
       "    .dataframe tbody tr th:only-of-type {\n",
       "        vertical-align: middle;\n",
       "    }\n",
       "\n",
       "    .dataframe tbody tr th {\n",
       "        vertical-align: top;\n",
       "    }\n",
       "\n",
       "    .dataframe thead th {\n",
       "        text-align: right;\n",
       "    }\n",
       "</style>\n",
       "<table border=\"1\" class=\"dataframe\">\n",
       "  <thead>\n",
       "    <tr style=\"text-align: right;\">\n",
       "      <th></th>\n",
       "      <th>BindingDB MonomerID</th>\n",
       "      <th>Ligand SMILES</th>\n",
       "      <th>BindingDB Ligand Name</th>\n",
       "      <th>Ki (nM)</th>\n",
       "      <th>IC50 (nM)</th>\n",
       "      <th>Kd (nM)</th>\n",
       "      <th>EC50 (nM)</th>\n",
       "      <th>pH</th>\n",
       "      <th>Article DOI</th>\n",
       "      <th>PMID</th>\n",
       "      <th>PubChem AID</th>\n",
       "      <th>Patent Number</th>\n",
       "    </tr>\n",
       "  </thead>\n",
       "  <tbody>\n",
       "  </tbody>\n",
       "</table>\n",
       "</div>"
      ],
      "text/plain": [
       "Empty DataFrame\n",
       "Columns: [BindingDB MonomerID, Ligand SMILES, BindingDB Ligand Name, Ki (nM), IC50 (nM), Kd (nM), EC50 (nM), pH, Article DOI, PMID, PubChem AID, Patent Number]\n",
       "Index: []"
      ]
     },
     "execution_count": 47,
     "metadata": {},
     "output_type": "execute_result"
    }
   ],
   "source": [
    "df[df['Ki (nM)'].isnull() & df['IC50 (nM)'].isnull() & df['Kd (nM)'].isnull() & df['EC50 (nM)'].isnull()]"
   ]
  },
  {
   "cell_type": "markdown",
   "metadata": {},
   "source": [
    "# 查看包含活性值类型多于1种的行"
   ]
  },
  {
   "cell_type": "code",
   "execution_count": 69,
   "metadata": {},
   "outputs": [
    {
     "data": {
      "text/html": [
       "<div>\n",
       "<style scoped>\n",
       "    .dataframe tbody tr th:only-of-type {\n",
       "        vertical-align: middle;\n",
       "    }\n",
       "\n",
       "    .dataframe tbody tr th {\n",
       "        vertical-align: top;\n",
       "    }\n",
       "\n",
       "    .dataframe thead th {\n",
       "        text-align: right;\n",
       "    }\n",
       "</style>\n",
       "<table border=\"1\" class=\"dataframe\">\n",
       "  <thead>\n",
       "    <tr style=\"text-align: right;\">\n",
       "      <th></th>\n",
       "      <th>BindingDB MonomerID</th>\n",
       "      <th>Ligand SMILES</th>\n",
       "      <th>BindingDB Ligand Name</th>\n",
       "      <th>Ki (nM)</th>\n",
       "      <th>IC50 (nM)</th>\n",
       "      <th>Kd (nM)</th>\n",
       "      <th>EC50 (nM)</th>\n",
       "      <th>pH</th>\n",
       "      <th>Article DOI</th>\n",
       "      <th>PMID</th>\n",
       "      <th>PubChem AID</th>\n",
       "      <th>Patent Number</th>\n",
       "    </tr>\n",
       "  </thead>\n",
       "  <tbody>\n",
       "    <tr>\n",
       "      <th>2377</th>\n",
       "      <td>100350</td>\n",
       "      <td>CS(=O)(=O)N1CCN(CC1)c1ccc(Nc2ncc(C(N)=O)c(NC3C...</td>\n",
       "      <td>US8501944, 372::US8501944, 375::US9868729, Exa...</td>\n",
       "      <td>NaN</td>\n",
       "      <td>15</td>\n",
       "      <td>4.5</td>\n",
       "      <td>NaN</td>\n",
       "      <td>NaN</td>\n",
       "      <td>NaN</td>\n",
       "      <td>NaN</td>\n",
       "      <td>NaN</td>\n",
       "      <td>US8501944</td>\n",
       "    </tr>\n",
       "  </tbody>\n",
       "</table>\n",
       "</div>"
      ],
      "text/plain": [
       "      BindingDB MonomerID                                      Ligand SMILES  \\\n",
       "2377               100350  CS(=O)(=O)N1CCN(CC1)c1ccc(Nc2ncc(C(N)=O)c(NC3C...   \n",
       "\n",
       "                                  BindingDB Ligand Name Ki (nM) IC50 (nM)  \\\n",
       "2377  US8501944, 372::US8501944, 375::US9868729, Exa...     NaN        15   \n",
       "\n",
       "     Kd (nM) EC50 (nM)  pH Article DOI  PMID PubChem AID Patent Number  \n",
       "2377     4.5       NaN NaN         NaN   NaN         NaN     US8501944  "
      ]
     },
     "execution_count": 69,
     "metadata": {},
     "output_type": "execute_result"
    }
   ],
   "source": [
    "df[df[['Ki (nM)', 'IC50 (nM)', 'Kd (nM)', 'EC50 (nM)']].notnull().sum(axis=1) > 1]"
   ]
  },
  {
   "cell_type": "markdown",
   "metadata": {},
   "source": [
    "# 对活性值种类多于1的记录任取一种"
   ]
  },
  {
   "cell_type": "code",
   "execution_count": 91,
   "metadata": {},
   "outputs": [],
   "source": [
    "df.loc[df[df[['Ki (nM)', 'IC50 (nM)', 'Kd (nM)', 'EC50 (nM)']].notnull().sum(axis=1) > 1].index.tolist(), 'IC50 (nM)'] = np.nan"
   ]
  },
  {
   "cell_type": "code",
   "execution_count": 96,
   "metadata": {},
   "outputs": [
    {
     "data": {
      "text/html": [
       "<div>\n",
       "<style scoped>\n",
       "    .dataframe tbody tr th:only-of-type {\n",
       "        vertical-align: middle;\n",
       "    }\n",
       "\n",
       "    .dataframe tbody tr th {\n",
       "        vertical-align: top;\n",
       "    }\n",
       "\n",
       "    .dataframe thead th {\n",
       "        text-align: right;\n",
       "    }\n",
       "</style>\n",
       "<table border=\"1\" class=\"dataframe\">\n",
       "  <thead>\n",
       "    <tr style=\"text-align: right;\">\n",
       "      <th></th>\n",
       "      <th>BindingDB MonomerID</th>\n",
       "      <th>Ligand SMILES</th>\n",
       "      <th>BindingDB Ligand Name</th>\n",
       "      <th>Ki (nM)</th>\n",
       "      <th>IC50 (nM)</th>\n",
       "      <th>Kd (nM)</th>\n",
       "      <th>EC50 (nM)</th>\n",
       "      <th>pH</th>\n",
       "      <th>Article DOI</th>\n",
       "      <th>PMID</th>\n",
       "      <th>PubChem AID</th>\n",
       "      <th>Patent Number</th>\n",
       "    </tr>\n",
       "  </thead>\n",
       "  <tbody>\n",
       "    <tr>\n",
       "      <th>2377</th>\n",
       "      <td>100350</td>\n",
       "      <td>CS(=O)(=O)N1CCN(CC1)c1ccc(Nc2ncc(C(N)=O)c(NC3C...</td>\n",
       "      <td>US8501944, 372::US8501944, 375::US9868729, Exa...</td>\n",
       "      <td>NaN</td>\n",
       "      <td>NaN</td>\n",
       "      <td>4.5</td>\n",
       "      <td>NaN</td>\n",
       "      <td>NaN</td>\n",
       "      <td>NaN</td>\n",
       "      <td>NaN</td>\n",
       "      <td>NaN</td>\n",
       "      <td>US8501944</td>\n",
       "    </tr>\n",
       "  </tbody>\n",
       "</table>\n",
       "</div>"
      ],
      "text/plain": [
       "      BindingDB MonomerID                                      Ligand SMILES  \\\n",
       "2377               100350  CS(=O)(=O)N1CCN(CC1)c1ccc(Nc2ncc(C(N)=O)c(NC3C...   \n",
       "\n",
       "                                  BindingDB Ligand Name Ki (nM) IC50 (nM)  \\\n",
       "2377  US8501944, 372::US8501944, 375::US9868729, Exa...     NaN       NaN   \n",
       "\n",
       "     Kd (nM) EC50 (nM)  pH Article DOI  PMID PubChem AID Patent Number  \n",
       "2377     4.5       NaN NaN         NaN   NaN         NaN     US8501944  "
      ]
     },
     "execution_count": 96,
     "metadata": {},
     "output_type": "execute_result"
    }
   ],
   "source": [
    "df.loc[[2377]]"
   ]
  },
  {
   "cell_type": "markdown",
   "metadata": {},
   "source": [
    "# 将活性类别中的NaN替换为''"
   ]
  },
  {
   "cell_type": "code",
   "execution_count": 111,
   "metadata": {},
   "outputs": [],
   "source": [
    "df.loc[:, ['Ki (nM)', 'IC50 (nM)', 'Kd (nM)', 'EC50 (nM)']] = df[['Ki (nM)', 'IC50 (nM)', 'Kd (nM)', 'EC50 (nM)']].fillna('')"
   ]
  },
  {
   "cell_type": "markdown",
   "metadata": {},
   "source": [
    "# 将活性值合并到一列"
   ]
  },
  {
   "cell_type": "code",
   "execution_count": 114,
   "metadata": {},
   "outputs": [],
   "source": [
    "df['activity'] = df['Ki (nM)'] + df['IC50 (nM)'] + df['Kd (nM)'] + df['EC50 (nM)']"
   ]
  },
  {
   "cell_type": "code",
   "execution_count": 124,
   "metadata": {},
   "outputs": [
    {
     "data": {
      "text/html": [
       "<div>\n",
       "<style scoped>\n",
       "    .dataframe tbody tr th:only-of-type {\n",
       "        vertical-align: middle;\n",
       "    }\n",
       "\n",
       "    .dataframe tbody tr th {\n",
       "        vertical-align: top;\n",
       "    }\n",
       "\n",
       "    .dataframe thead th {\n",
       "        text-align: right;\n",
       "    }\n",
       "</style>\n",
       "<table border=\"1\" class=\"dataframe\">\n",
       "  <thead>\n",
       "    <tr style=\"text-align: right;\">\n",
       "      <th></th>\n",
       "      <th>BindingDB MonomerID</th>\n",
       "      <th>Ligand SMILES</th>\n",
       "      <th>BindingDB Ligand Name</th>\n",
       "      <th>Ki (nM)</th>\n",
       "      <th>IC50 (nM)</th>\n",
       "      <th>Kd (nM)</th>\n",
       "      <th>EC50 (nM)</th>\n",
       "      <th>pH</th>\n",
       "      <th>Article DOI</th>\n",
       "      <th>PMID</th>\n",
       "      <th>PubChem AID</th>\n",
       "      <th>Patent Number</th>\n",
       "      <th>activity</th>\n",
       "    </tr>\n",
       "  </thead>\n",
       "  <tbody>\n",
       "    <tr>\n",
       "      <th>0</th>\n",
       "      <td>50396071</td>\n",
       "      <td>CNC(=O)COc1cccc(Nc2ncc(F)c(Nc3ccc4OC(F)(F)C(=O...</td>\n",
       "      <td>CHEMBL2170582</td>\n",
       "      <td>1.8</td>\n",
       "      <td></td>\n",
       "      <td></td>\n",
       "      <td></td>\n",
       "      <td>NaN</td>\n",
       "      <td>10.1021/jm201271b</td>\n",
       "      <td>22257213.0</td>\n",
       "      <td>NaN</td>\n",
       "      <td>NaN</td>\n",
       "      <td>1.8</td>\n",
       "    </tr>\n",
       "  </tbody>\n",
       "</table>\n",
       "</div>"
      ],
      "text/plain": [
       "   BindingDB MonomerID                                      Ligand SMILES  \\\n",
       "0             50396071  CNC(=O)COc1cccc(Nc2ncc(F)c(Nc3ccc4OC(F)(F)C(=O...   \n",
       "\n",
       "  BindingDB Ligand Name Ki (nM) IC50 (nM) Kd (nM) EC50 (nM)  pH  \\\n",
       "0         CHEMBL2170582     1.8                             NaN   \n",
       "\n",
       "         Article DOI        PMID PubChem AID Patent Number activity  \n",
       "0  10.1021/jm201271b  22257213.0         NaN           NaN      1.8  "
      ]
     },
     "execution_count": 124,
     "metadata": {},
     "output_type": "execute_result"
    }
   ],
   "source": [
    "df.head(1)"
   ]
  },
  {
   "cell_type": "markdown",
   "metadata": {},
   "source": [
    "# 新建一列记录活性单位"
   ]
  },
  {
   "cell_type": "code",
   "execution_count": 130,
   "metadata": {},
   "outputs": [],
   "source": [
    "for index, row in df.iterrows():\n",
    "    if row['Ki (nM)'] != '':\n",
    "        df.loc[index, 'unit'] = 'Ki (nM)'\n",
    "    elif row['IC50 (nM)'] != '':\n",
    "        df.loc[index, 'unit'] = 'IC50 (nM)'\n",
    "    elif row['Kd (nM)'] != '':\n",
    "        df.loc[index, 'unit'] = 'Kd (nM)'\n",
    "    elif row['EC50 (nM)'] != '':\n",
    "        df.loc[index, 'unit'] = 'EC50 (nM)'"
   ]
  },
  {
   "cell_type": "code",
   "execution_count": 132,
   "metadata": {},
   "outputs": [
    {
     "data": {
      "text/html": [
       "<div>\n",
       "<style scoped>\n",
       "    .dataframe tbody tr th:only-of-type {\n",
       "        vertical-align: middle;\n",
       "    }\n",
       "\n",
       "    .dataframe tbody tr th {\n",
       "        vertical-align: top;\n",
       "    }\n",
       "\n",
       "    .dataframe thead th {\n",
       "        text-align: right;\n",
       "    }\n",
       "</style>\n",
       "<table border=\"1\" class=\"dataframe\">\n",
       "  <thead>\n",
       "    <tr style=\"text-align: right;\">\n",
       "      <th></th>\n",
       "      <th>BindingDB MonomerID</th>\n",
       "      <th>Ligand SMILES</th>\n",
       "      <th>BindingDB Ligand Name</th>\n",
       "      <th>Ki (nM)</th>\n",
       "      <th>IC50 (nM)</th>\n",
       "      <th>Kd (nM)</th>\n",
       "      <th>EC50 (nM)</th>\n",
       "      <th>pH</th>\n",
       "      <th>Article DOI</th>\n",
       "      <th>PMID</th>\n",
       "      <th>PubChem AID</th>\n",
       "      <th>Patent Number</th>\n",
       "      <th>activity</th>\n",
       "      <th>unit</th>\n",
       "    </tr>\n",
       "  </thead>\n",
       "  <tbody>\n",
       "    <tr>\n",
       "      <th>0</th>\n",
       "      <td>50396071</td>\n",
       "      <td>CNC(=O)COc1cccc(Nc2ncc(F)c(Nc3ccc4OC(F)(F)C(=O...</td>\n",
       "      <td>CHEMBL2170582</td>\n",
       "      <td>1.8</td>\n",
       "      <td></td>\n",
       "      <td></td>\n",
       "      <td></td>\n",
       "      <td>NaN</td>\n",
       "      <td>10.1021/jm201271b</td>\n",
       "      <td>22257213.0</td>\n",
       "      <td>NaN</td>\n",
       "      <td>NaN</td>\n",
       "      <td>1.8</td>\n",
       "      <td>Ki (nM)</td>\n",
       "    </tr>\n",
       "  </tbody>\n",
       "</table>\n",
       "</div>"
      ],
      "text/plain": [
       "   BindingDB MonomerID                                      Ligand SMILES  \\\n",
       "0             50396071  CNC(=O)COc1cccc(Nc2ncc(F)c(Nc3ccc4OC(F)(F)C(=O...   \n",
       "\n",
       "  BindingDB Ligand Name Ki (nM) IC50 (nM) Kd (nM) EC50 (nM)  pH  \\\n",
       "0         CHEMBL2170582     1.8                             NaN   \n",
       "\n",
       "         Article DOI        PMID PubChem AID Patent Number activity     unit  \n",
       "0  10.1021/jm201271b  22257213.0         NaN           NaN      1.8  Ki (nM)  "
      ]
     },
     "execution_count": 132,
     "metadata": {},
     "output_type": "execute_result"
    }
   ],
   "source": [
    "df.head(1)"
   ]
  },
  {
   "cell_type": "markdown",
   "metadata": {},
   "source": [
    "# 查看不含“<”和“>”数据的统计量"
   ]
  },
  {
   "cell_type": "markdown",
   "metadata": {},
   "source": [
    "根据统计量得出的结论：<br />\n",
    "1.最小值为0的数据，需要检查一下<br />\n",
    "2.活性值的二分之一分位为55 nM，可以尝试以该值作为有活性和无活性的分界"
   ]
  },
  {
   "cell_type": "code",
   "execution_count": 156,
   "metadata": {},
   "outputs": [
    {
     "data": {
      "text/plain": [
       "count    5.192000e+03\n",
       "mean     8.851735e+03\n",
       "std      2.438747e+05\n",
       "min      0.000000e+00\n",
       "25%      1.140000e+01\n",
       "50%      5.500000e+01\n",
       "75%      3.691750e+02\n",
       "max      1.200000e+07\n",
       "Name: activity, dtype: float64"
      ]
     },
     "execution_count": 156,
     "metadata": {},
     "output_type": "execute_result"
    }
   ],
   "source": [
    "df[~df['activity'].str.contains('<|>')]['activity'].astype('float64').describe()"
   ]
  },
  {
   "cell_type": "markdown",
   "metadata": {},
   "source": [
    "# 处理重复数据"
   ]
  },
  {
   "cell_type": "code",
   "execution_count": 191,
   "metadata": {},
   "outputs": [
    {
     "data": {
      "text/plain": [
       "967"
      ]
     },
     "execution_count": 191,
     "metadata": {},
     "output_type": "execute_result"
    }
   ],
   "source": [
    "# 重复数据数量\n",
    "df.shape[0] - len(df.groupby('Ligand SMILES'))"
   ]
  },
  {
   "cell_type": "code",
   "execution_count": 188,
   "metadata": {},
   "outputs": [
    {
     "name": "stdout",
     "output_type": "stream",
     "text": [
      "CC(C)c1ccnc(Nc2cc(C)cc(c2)-c2cnc(s2)C(C)(O)C2CCC(CC2)C(O)=O)n1 1186    212239\n",
      "3744    212238\n",
      "Name: BindingDB MonomerID, dtype: int64\n",
      "CCOC(=O)C1CCC(O)(CC1)c1ccc(cn1)-c1cc(C)cc(Nc2cc(ccn2)C(F)(F)F)n1 3082    182043\n",
      "3115    182044\n",
      "Name: BindingDB MonomerID, dtype: int64\n",
      "Cc1cc(Nc2cc(ccn2)C(F)(F)F)nc(c1)-c1ccc(NC2CCC(CC2)C(O)=O)nc1 1813    182090\n",
      "5401    182089\n",
      "Name: BindingDB MonomerID, dtype: int64\n",
      "Cc1cc(Nc2cc(ccn2)C(F)(F)F)nc(c1)-c1ccc(nc1)C1(O)CCC(CC1)C(O)=O 1332    182051\n",
      "5409    182050\n",
      "Name: BindingDB MonomerID, dtype: int64\n",
      "Cc1cc(Nc2nccc(C)n2)cc(c1)-c1cnc(s1)C(C)(O)C1CCC(CC1)C(O)=O 2282    212234\n",
      "5388    212233\n",
      "Name: BindingDB MonomerID, dtype: int64\n"
     ]
    }
   ],
   "source": [
    "for smi, group in df.groupby('Ligand SMILES'):\n",
    "    if len(group) >1:\n",
    "        "
   ]
  }
 ],
 "metadata": {
  "kernelspec": {
   "display_name": "Python 3",
   "language": "python",
   "name": "python3"
  },
  "language_info": {
   "codemirror_mode": {
    "name": "ipython",
    "version": 3
   },
   "file_extension": ".py",
   "mimetype": "text/x-python",
   "name": "python",
   "nbconvert_exporter": "python",
   "pygments_lexer": "ipython3",
   "version": "3.7.6"
  }
 },
 "nbformat": 4,
 "nbformat_minor": 4
}
