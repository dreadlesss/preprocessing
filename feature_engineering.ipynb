{
 "cells": [
  {
   "cell_type": "markdown",
   "metadata": {},
   "source": [
    "# 删除只有一种数值的列"
   ]
  },
  {
   "cell_type": "code",
   "execution_count": 3,
   "metadata": {},
   "outputs": [
    {
     "name": "stdout",
     "output_type": "stream",
     "text": [
      "(2186, 5)\n"
     ]
    }
   ],
   "source": [
    "import pandas as pd\n",
    "path = '1A1_classification.tsv'\n",
    "df = pd.read_csv(path, sep='\\t', index_col=0)\n",
    "print(df.shape)"
   ]
  },
  {
   "cell_type": "code",
   "execution_count": 16,
   "metadata": {},
   "outputs": [
    {
     "name": "stdout",
     "output_type": "stream",
     "text": [
      "5 columns before delete: ['smiles', 'affinity_type', 'affinity', 'flag', 'label']\n",
      "5 columns remain after delete.\n",
      "Deleted: []\n"
     ]
    }
   ],
   "source": [
    "def dropOnlyOneValue(df, verbose=True):\n",
    "    if verbose:\n",
    "        print('{} columns before delete: {}'.format(df.shape[1], list(df.columns)))\n",
    "    for col in df.columns:\n",
    "        drop_columns = []\n",
    "        col_series = df[col].dropna().unique()\n",
    "        if len(col_series) == 1:\n",
    "            drop_columns.append(col)\n",
    "        df.drop(drop_columns, axis=1)\n",
    "    if verbose:\n",
    "        print('{} columns remain after delete.\\nDeleted: {}'.format(df.shape[1], drop_columns))\n",
    "\n",
    "dropOnlyOneValue(df, 1)"
   ]
  },
  {
   "cell_type": "markdown",
   "metadata": {},
   "source": [
    "# 特征缺失值分析"
   ]
  },
  {
   "cell_type": "code",
   "execution_count": 13,
   "metadata": {},
   "outputs": [
    {
     "data": {
      "text/plain": [
       "smiles             0\n",
       "affinity_type      0\n",
       "affinity           0\n",
       "flag             947\n",
       "label              0\n",
       "dtype: int64"
      ]
     },
     "execution_count": 13,
     "metadata": {},
     "output_type": "execute_result"
    }
   ],
   "source": [
    "df.isnull().sum(axis=0)"
   ]
  }
 ],
 "metadata": {
  "kernelspec": {
   "display_name": "Python 3",
   "language": "python",
   "name": "python3"
  },
  "language_info": {
   "codemirror_mode": {
    "name": "ipython",
    "version": 3
   },
   "file_extension": ".py",
   "mimetype": "text/x-python",
   "name": "python",
   "nbconvert_exporter": "python",
   "pygments_lexer": "ipython3",
   "version": "3.7.6"
  }
 },
 "nbformat": 4,
 "nbformat_minor": 4
}
