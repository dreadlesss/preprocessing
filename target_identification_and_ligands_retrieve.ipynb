{
 "cells": [
  {
   "cell_type": "code",
   "execution_count": 1,
   "metadata": {},
   "outputs": [],
   "source": [
    "import pandas as pd\n",
    "import requests\n",
    "from bs4 import BeautifulSoup\n",
    "from rdkit import Chem\n",
    "from rdkit.Chem import Draw"
   ]
  },
  {
   "cell_type": "code",
   "execution_count": 2,
   "metadata": {},
   "outputs": [],
   "source": [
    "def convert(value):\n",
    "    '''Convert scientific notation to numbers'''\n",
    "    if 'e' in value:\n",
    "        v1, v2 = value.split('e')\n",
    "        num = float(v1) * 10 ** (int(v2))\n",
    "        return str(num)\n",
    "    else:\n",
    "        return value\n",
    "    \n",
    "class webService():\n",
    "    '''Calculate the similarity between query molecule and molecules in BindingDB database,\n",
    "    retrieve the most similar molecule(s) and corresponding target by the cutoff, astertain\n",
    "    the possible target by the available data.\n",
    "    \n",
    "    Examples\n",
    "    --------\n",
    "    Retrieve the similar molecules and target by the query smiles and cutoff:\n",
    "    >>> web = webService('c1ccccc1', '0.8')\n",
    "    >>> res = web.targetBySimilarity()\n",
    "    >>> res.head(3)\n",
    "    ...\n",
    "    \n",
    "    Sort the data by a particular column:\n",
    "    >>> df_sorted = web.sortCol()\n",
    "    ...\n",
    "    \n",
    "    draw the top n mols:\n",
    "    >>> web.drawMols()\n",
    "\n",
    "    '''\n",
    "    def __init__(self):\n",
    "        self.df_sorted = None\n",
    "        \n",
    "    def parseResults(self, props):\n",
    "        soup = BeautifulSoup(self.r.content.decode('utf-8'), 'lxml')\n",
    "        extrs = []\n",
    "        if 'bdb:' in props[0]:\n",
    "            cols = list(map(lambda x: x[4:], props))\n",
    "            aff_col = 'bdb:affinities'\n",
    "        else:\n",
    "            cols = props\n",
    "            aff_col = 'affinities'\n",
    "        for link in soup.find_all(aff_col):\n",
    "            extr = []\n",
    "            for prop in props:\n",
    "                prop_value = link.find(prop).string\n",
    "                extr.append(prop_value)\n",
    "            extrs.append(extr)\n",
    "        # convert to df\n",
    "        self.df = pd.DataFrame(extrs, columns=cols)\n",
    "        self.df.rename(columns={'smile':'smiles'}, inplace=True)\n",
    "    \n",
    "    def getTargetBySimilarity(self, smiles, cutoff):\n",
    "        '''Get the possible target by similarity\n",
    "        \n",
    "        smiles: the smiles of the query mol\n",
    "        cutoff: the smilarity cutoff\n",
    "        '''\n",
    "        self.r = requests.get('http://bindingdb.org/axis2/services/BDBService/getTargetByCompound?smiles={}&cutoff={}'.format(smiles, cutoff))\n",
    "        self.encode = self.r.encoding\n",
    "        print(self.r.status_code, self.encode)\n",
    "        props = ['bdb:monomerid', 'bdb:inhibitor', 'bdb:target', 'bdb:uniprot', 'bdb:species', 'bdb:affinity_type',\n",
    "                'bdb:affinity', 'bdb:doi', 'bdb:smiles', 'bdb:inchi', 'bdb:tanimoto']\n",
    "        self.parseResults(props)\n",
    "        return self.df\n",
    "        \n",
    "    def getLigandsByUniprots(self, proteins, cutoff):\n",
    "        '''Get the ligands by a set of protein IDs\n",
    "        \n",
    "        proteins: the ids of the query proteins split by \",\"\n",
    "        cutoff: the affinity cutoff\n",
    "        '''\n",
    "        self.r = requests.get('http://bindingdb.org/axis2/services/BDBService/getLigandsByUniprots?uniprot={}&cutoff={}&code=[012]'.format(proteins, cutoff))\n",
    "        self.encode = self.r.encoding\n",
    "        print(self.r.status_code, self.encode)\n",
    "        props = ['query', 'monomerid', 'smile', 'affinity_type', 'affinity', 'pmid', 'doi']\n",
    "        self.parseResults(props)\n",
    "        return self.df\n",
    "        \n",
    "    def getLigandsByUniprot(self, protein, cutoff):\n",
    "        '''Get the ligands by a particular protein ID\n",
    "        \n",
    "        protein: the id of a protein\n",
    "        cutoff: the affinity cutoff'''\n",
    "        self.r = requests.get('http://bindingdb.org/axis2/services/BDBService/getLigandsByUniprot?uniprot={};{}'.format(protein, cutoff))\n",
    "        self.encode = self.r.encoding\n",
    "        print(self.r.status_code, self.encode)\n",
    "        props = ['bdb:monomerid', 'bdb:smiles', 'bdb:affinity_type', 'bdb:affinity']\n",
    "        self.parseResults(props)\n",
    "        return self.df\n",
    "        \n",
    "    def sortCol(self, col='affinity'):\n",
    "        '''Retrieve the records without \"<|>\" and sort the value'''\n",
    "        df = self.df.copy(deep=True)\n",
    "        df[col] = df[col].apply(convert)\n",
    "        self.df_sorted = df[~df[col].str.contains('<|>')].sort_values(by=col)\n",
    "        return self.df_sorted\n",
    "\n",
    "    def drawMol(self, n=1, molsPerRow=4):\n",
    "        '''Draw the top n mols'''\n",
    "        if not isinstance(self.df_sorted, pd.DataFrame):\n",
    "            self.sortCol()\n",
    "        mols = self.df_sorted['smiles'].apply(Chem.MolFromSmiles).tolist()\n",
    "        imgs = Draw.MolsToGridImage(mols, maxMols=n, molsPerRow=molsPerRow)\n",
    "        return imgs"
   ]
  },
  {
   "cell_type": "markdown",
   "metadata": {},
   "source": [
    "# 一、基于相似性推测化合物可能的靶点"
   ]
  },
  {
   "cell_type": "markdown",
   "metadata": {},
   "source": [
    "初始化，设置查询分子"
   ]
  },
  {
   "cell_type": "code",
   "execution_count": 3,
   "metadata": {},
   "outputs": [
    {
     "data": {
      "image/png": "[encoded data removed]",
      "text/plain": [
       "<rdkit.Chem.rdchem.Mol at 0x8bf0030>"
      ]
     },
     "execution_count": 3,
     "metadata": {},
     "output_type": "execute_result"
    }
   ],
   "source": [
    "ws = webService()\n",
    "smiles = 'CC1=CC(O)=C2C(=O)C3=C(O)C=C(O)C=C3C(=O)C2=C1'\n",
    "sim_cutoff = 0.8\n",
    "Chem.MolFromSmiles(smiles)"
   ]
  },
  {
   "cell_type": "markdown",
   "metadata": {},
   "source": [
    "提取相似分子及相应靶点"
   ]
  },
  {
   "cell_type": "code",
   "execution_count": 4,
   "metadata": {},
   "outputs": [
    {
     "name": "stdout",
     "output_type": "stream",
     "text": [
      "200 UTF-8\n"
     ]
    },
    {
     "data": {
      "text/html": [
       "<div>\n",
       "<style scoped>\n",
       "    .dataframe tbody tr th:only-of-type {\n",
       "        vertical-align: middle;\n",
       "    }\n",
       "\n",
       "    .dataframe tbody tr th {\n",
       "        vertical-align: top;\n",
       "    }\n",
       "\n",
       "    .dataframe thead th {\n",
       "        text-align: right;\n",
       "    }\n",
       "</style>\n",
       "<table border=\"1\" class=\"dataframe\">\n",
       "  <thead>\n",
       "    <tr style=\"text-align: right;\">\n",
       "      <th></th>\n",
       "      <th>monomerid</th>\n",
       "      <th>inhibitor</th>\n",
       "      <th>target</th>\n",
       "      <th>uniprot</th>\n",
       "      <th>species</th>\n",
       "      <th>affinity_type</th>\n",
       "      <th>affinity</th>\n",
       "      <th>doi</th>\n",
       "      <th>smiles</th>\n",
       "      <th>inchi</th>\n",
       "      <th>tanimoto</th>\n",
       "    </tr>\n",
       "  </thead>\n",
       "  <tbody>\n",
       "    <tr>\n",
       "      <th>0</th>\n",
       "      <td>50005912</td>\n",
       "      <td>BDBM50005912</td>\n",
       "      <td>Leukocyte elastase</td>\n",
       "      <td>P08246</td>\n",
       "      <td>Homo sapiens (Human)</td>\n",
       "      <td>IC50</td>\n",
       "      <td>13000</td>\n",
       "      <td>10.1021/jm00087a014</td>\n",
       "      <td>Oc1cccc2C(=O)c3ccc(Cc4ccccc4)c(O)c3C(=O)c12</td>\n",
       "      <td>InChI=1S/C21H14O4/c22-16-8-4-7-14-17(16)21(25)...</td>\n",
       "      <td>0.89809</td>\n",
       "    </tr>\n",
       "    <tr>\n",
       "      <th>1</th>\n",
       "      <td>50206434</td>\n",
       "      <td>BDBM50206434</td>\n",
       "      <td>Amine oxidase [flavin-containing] B</td>\n",
       "      <td>P27338</td>\n",
       "      <td>Homo sapiens (Human)</td>\n",
       "      <td>IC50</td>\n",
       "      <td>&gt;60000</td>\n",
       "      <td>10.1016/j.bmcl.2017.01.085</td>\n",
       "      <td>Oc1ccc2C(=O)c3ccccc3C(=O)c2c1O</td>\n",
       "      <td>InChI=1S/C14H8O4/c15-10-6-5-9-11(14(10)18)13(1...</td>\n",
       "      <td>0.83226</td>\n",
       "    </tr>\n",
       "    <tr>\n",
       "      <th>2</th>\n",
       "      <td>67454</td>\n",
       "      <td>BDBM67454</td>\n",
       "      <td>Amine oxidase [flavin-containing] A</td>\n",
       "      <td>P21397</td>\n",
       "      <td>Homo sapiens (Human)</td>\n",
       "      <td>Ki</td>\n",
       "      <td>422</td>\n",
       "      <td>10.1016/j.bmcl.2017.01.085</td>\n",
       "      <td>Oc1cc(O)c2C(=O)c3ccccc3C(=O)c2c1O</td>\n",
       "      <td>InChI=1S/C14H8O5/c15-8-5-9(16)14(19)11-10(8)12...</td>\n",
       "      <td>0.84076</td>\n",
       "    </tr>\n",
       "  </tbody>\n",
       "</table>\n",
       "</div>"
      ],
      "text/plain": [
       "  monomerid     inhibitor                               target uniprot  \\\n",
       "0  50005912  BDBM50005912                   Leukocyte elastase  P08246   \n",
       "1  50206434  BDBM50206434  Amine oxidase [flavin-containing] B  P27338   \n",
       "2     67454     BDBM67454  Amine oxidase [flavin-containing] A  P21397   \n",
       "\n",
       "                species affinity_type affinity                         doi  \\\n",
       "0  Homo sapiens (Human)          IC50    13000         10.1021/jm00087a014   \n",
       "1  Homo sapiens (Human)          IC50   >60000  10.1016/j.bmcl.2017.01.085   \n",
       "2  Homo sapiens (Human)            Ki      422  10.1016/j.bmcl.2017.01.085   \n",
       "\n",
       "                                        smiles  \\\n",
       "0  Oc1cccc2C(=O)c3ccc(Cc4ccccc4)c(O)c3C(=O)c12   \n",
       "1               Oc1ccc2C(=O)c3ccccc3C(=O)c2c1O   \n",
       "2            Oc1cc(O)c2C(=O)c3ccccc3C(=O)c2c1O   \n",
       "\n",
       "                                               inchi tanimoto  \n",
       "0  InChI=1S/C21H14O4/c22-16-8-4-7-14-17(16)21(25)...  0.89809  \n",
       "1  InChI=1S/C14H8O4/c15-10-6-5-9-11(14(10)18)13(1...  0.83226  \n",
       "2  InChI=1S/C14H8O5/c15-8-5-9(16)14(19)11-10(8)12...  0.84076  "
      ]
     },
     "execution_count": 4,
     "metadata": {},
     "output_type": "execute_result"
    }
   ],
   "source": [
    "df = ws.getTargetBySimilarity(smiles, sim_cutoff)\n",
    "df.head(3)"
   ]
  },
  {
   "cell_type": "markdown",
   "metadata": {},
   "source": [
    "自动对活性值排序"
   ]
  },
  {
   "cell_type": "code",
   "execution_count": 5,
   "metadata": {},
   "outputs": [
    {
     "data": {
      "text/html": [
       "<div>\n",
       "<style scoped>\n",
       "    .dataframe tbody tr th:only-of-type {\n",
       "        vertical-align: middle;\n",
       "    }\n",
       "\n",
       "    .dataframe tbody tr th {\n",
       "        vertical-align: top;\n",
       "    }\n",
       "\n",
       "    .dataframe thead th {\n",
       "        text-align: right;\n",
       "    }\n",
       "</style>\n",
       "<table border=\"1\" class=\"dataframe\">\n",
       "  <thead>\n",
       "    <tr style=\"text-align: right;\">\n",
       "      <th></th>\n",
       "      <th>monomerid</th>\n",
       "      <th>inhibitor</th>\n",
       "      <th>target</th>\n",
       "      <th>uniprot</th>\n",
       "      <th>species</th>\n",
       "      <th>affinity_type</th>\n",
       "      <th>affinity</th>\n",
       "      <th>doi</th>\n",
       "      <th>smiles</th>\n",
       "      <th>inchi</th>\n",
       "      <th>tanimoto</th>\n",
       "    </tr>\n",
       "  </thead>\n",
       "  <tbody>\n",
       "    <tr>\n",
       "      <th>120</th>\n",
       "      <td>50041802</td>\n",
       "      <td>BDBM50041802</td>\n",
       "      <td>NAD-dependent protein deacetylase sirtuin-5 (S...</td>\n",
       "      <td>Q9NXA8</td>\n",
       "      <td>Homo sapiens (Human)</td>\n",
       "      <td>IC50</td>\n",
       "      <td>100</td>\n",
       "      <td>None</td>\n",
       "      <td>Oc1cccc2Cc3cccc(O)c3C(=O)c12</td>\n",
       "      <td>InChI=1S/C14H10O3/c15-10-5-1-3-8-7-9-4-2-6-11(...</td>\n",
       "      <td>0.76974</td>\n",
       "    </tr>\n",
       "    <tr>\n",
       "      <th>6</th>\n",
       "      <td>50041419</td>\n",
       "      <td>BDBM50041419</td>\n",
       "      <td>Human immunodeficiency virus type 1 integrase</td>\n",
       "      <td>None</td>\n",
       "      <td>Human immunodeficiency virus 1</td>\n",
       "      <td>IC50</td>\n",
       "      <td>1000</td>\n",
       "      <td>10.1021/jm990322h</td>\n",
       "      <td>Oc1ccc2C(=O)c3c(O)ccc(O)c3C(=O)c2c1O</td>\n",
       "      <td>InChI=1S/C14H8O6/c15-6-3-4-7(16)11-10(6)12(18)...</td>\n",
       "      <td>0.82911</td>\n",
       "    </tr>\n",
       "    <tr>\n",
       "      <th>163</th>\n",
       "      <td>50041782</td>\n",
       "      <td>BDBM50041782</td>\n",
       "      <td>Arachidonate 5-lipoxygenase</td>\n",
       "      <td>None</td>\n",
       "      <td>Bos taurus</td>\n",
       "      <td>IC50</td>\n",
       "      <td>1000</td>\n",
       "      <td>10.1021/jm00037a017</td>\n",
       "      <td>Oc1ccc(O)c(Cc2cc(O)c3C(=O)c4c(O)cccc4Cc3c2)c1</td>\n",
       "      <td>InChI=1S/C21H16O5/c22-15-4-5-16(23)13(10-15)6-...</td>\n",
       "      <td>0.83544</td>\n",
       "    </tr>\n",
       "  </tbody>\n",
       "</table>\n",
       "</div>"
      ],
      "text/plain": [
       "    monomerid     inhibitor  \\\n",
       "120  50041802  BDBM50041802   \n",
       "6    50041419  BDBM50041419   \n",
       "163  50041782  BDBM50041782   \n",
       "\n",
       "                                                target uniprot  \\\n",
       "120  NAD-dependent protein deacetylase sirtuin-5 (S...  Q9NXA8   \n",
       "6        Human immunodeficiency virus type 1 integrase    None   \n",
       "163                        Arachidonate 5-lipoxygenase    None   \n",
       "\n",
       "                            species affinity_type affinity  \\\n",
       "120            Homo sapiens (Human)          IC50      100   \n",
       "6    Human immunodeficiency virus 1          IC50     1000   \n",
       "163                      Bos taurus          IC50     1000   \n",
       "\n",
       "                     doi                                         smiles  \\\n",
       "120                 None                   Oc1cccc2Cc3cccc(O)c3C(=O)c12   \n",
       "6      10.1021/jm990322h           Oc1ccc2C(=O)c3c(O)ccc(O)c3C(=O)c2c1O   \n",
       "163  10.1021/jm00037a017  Oc1ccc(O)c(Cc2cc(O)c3C(=O)c4c(O)cccc4Cc3c2)c1   \n",
       "\n",
       "                                                 inchi tanimoto  \n",
       "120  InChI=1S/C14H10O3/c15-10-5-1-3-8-7-9-4-2-6-11(...  0.76974  \n",
       "6    InChI=1S/C14H8O6/c15-6-3-4-7(16)11-10(6)12(18)...  0.82911  \n",
       "163  InChI=1S/C21H16O5/c22-15-4-5-16(23)13(10-15)6-...  0.83544  "
      ]
     },
     "execution_count": 5,
     "metadata": {},
     "output_type": "execute_result"
    }
   ],
   "source": [
    "df_sorted = ws.sortCol()\n",
    "df_sorted.head(3)"
   ]
  },
  {
   "cell_type": "markdown",
   "metadata": {},
   "source": [
    "# 二、获取某个蛋白的分子活性数据"
   ]
  },
  {
   "cell_type": "markdown",
   "metadata": {},
   "source": [
    "设置搜索蛋白和活性阈值，并搜索"
   ]
  },
  {
   "cell_type": "code",
   "execution_count": 6,
   "metadata": {},
   "outputs": [
    {
     "name": "stdout",
     "output_type": "stream",
     "text": [
      "200 UTF-8\n"
     ]
    },
    {
     "data": {
      "text/html": [
       "<div>\n",
       "<style scoped>\n",
       "    .dataframe tbody tr th:only-of-type {\n",
       "        vertical-align: middle;\n",
       "    }\n",
       "\n",
       "    .dataframe tbody tr th {\n",
       "        vertical-align: top;\n",
       "    }\n",
       "\n",
       "    .dataframe thead th {\n",
       "        text-align: right;\n",
       "    }\n",
       "</style>\n",
       "<table border=\"1\" class=\"dataframe\">\n",
       "  <thead>\n",
       "    <tr style=\"text-align: right;\">\n",
       "      <th></th>\n",
       "      <th>monomerid</th>\n",
       "      <th>smiles</th>\n",
       "      <th>affinity_type</th>\n",
       "      <th>affinity</th>\n",
       "    </tr>\n",
       "  </thead>\n",
       "  <tbody>\n",
       "    <tr>\n",
       "      <th>0</th>\n",
       "      <td>50027776</td>\n",
       "      <td>C#Cc1ccc(cc1)-c1ccccc1</td>\n",
       "      <td>Ki</td>\n",
       "      <td>270</td>\n",
       "    </tr>\n",
       "    <tr>\n",
       "      <th>1</th>\n",
       "      <td>50027778</td>\n",
       "      <td>C#Cc1ccc2ccc3cccc4ccc1c2c34</td>\n",
       "      <td>Ki</td>\n",
       "      <td>20</td>\n",
       "    </tr>\n",
       "    <tr>\n",
       "      <th>2</th>\n",
       "      <td>50027779</td>\n",
       "      <td>C#Cc1cc2cccc3ccc4cccc1c4c23</td>\n",
       "      <td>Ki</td>\n",
       "      <td>10</td>\n",
       "    </tr>\n",
       "  </tbody>\n",
       "</table>\n",
       "</div>"
      ],
      "text/plain": [
       "  monomerid                       smiles affinity_type affinity\n",
       "0  50027776       C#Cc1ccc(cc1)-c1ccccc1            Ki      270\n",
       "1  50027778  C#Cc1ccc2ccc3cccc4ccc1c2c34            Ki       20\n",
       "2  50027779  C#Cc1cc2cccc3ccc4cccc1c4c23            Ki       10"
      ]
     },
     "execution_count": 6,
     "metadata": {},
     "output_type": "execute_result"
    }
   ],
   "source": [
    "protein = 'P00185'\n",
    "aff_cutoff = 1000\n",
    "ws = webService()\n",
    "df = ws.getLigandsByUniprot(protein, aff_cutoff)\n",
    "df.head(3)"
   ]
  },
  {
   "cell_type": "markdown",
   "metadata": {},
   "source": [
    "排序"
   ]
  },
  {
   "cell_type": "code",
   "execution_count": 7,
   "metadata": {},
   "outputs": [
    {
     "data": {
      "text/html": [
       "<div>\n",
       "<style scoped>\n",
       "    .dataframe tbody tr th:only-of-type {\n",
       "        vertical-align: middle;\n",
       "    }\n",
       "\n",
       "    .dataframe tbody tr th {\n",
       "        vertical-align: top;\n",
       "    }\n",
       "\n",
       "    .dataframe thead th {\n",
       "        text-align: right;\n",
       "    }\n",
       "</style>\n",
       "<table border=\"1\" class=\"dataframe\">\n",
       "  <thead>\n",
       "    <tr style=\"text-align: right;\">\n",
       "      <th></th>\n",
       "      <th>monomerid</th>\n",
       "      <th>smiles</th>\n",
       "      <th>affinity_type</th>\n",
       "      <th>affinity</th>\n",
       "    </tr>\n",
       "  </thead>\n",
       "  <tbody>\n",
       "    <tr>\n",
       "      <th>2</th>\n",
       "      <td>50027779</td>\n",
       "      <td>C#Cc1cc2cccc3ccc4cccc1c4c23</td>\n",
       "      <td>Ki</td>\n",
       "      <td>10</td>\n",
       "    </tr>\n",
       "    <tr>\n",
       "      <th>7</th>\n",
       "      <td>50214612</td>\n",
       "      <td>CC#Cc1ccc2c(ccc3ccccc23)c1</td>\n",
       "      <td>Ki</td>\n",
       "      <td>10</td>\n",
       "    </tr>\n",
       "    <tr>\n",
       "      <th>11</th>\n",
       "      <td>50380104</td>\n",
       "      <td>COc1ccc(CC2=NN3C(=NN(C(C)=O)C3(C)c3ccc(C)cc3)N...</td>\n",
       "      <td>IC50</td>\n",
       "      <td>10.4</td>\n",
       "    </tr>\n",
       "  </tbody>\n",
       "</table>\n",
       "</div>"
      ],
      "text/plain": [
       "   monomerid                                             smiles affinity_type  \\\n",
       "2   50027779                        C#Cc1cc2cccc3ccc4cccc1c4c23            Ki   \n",
       "7   50214612                         CC#Cc1ccc2c(ccc3ccccc23)c1            Ki   \n",
       "11  50380104  COc1ccc(CC2=NN3C(=NN(C(C)=O)C3(C)c3ccc(C)cc3)N...          IC50   \n",
       "\n",
       "   affinity  \n",
       "2        10  \n",
       "7        10  \n",
       "11     10.4  "
      ]
     },
     "execution_count": 7,
     "metadata": {},
     "output_type": "execute_result"
    }
   ],
   "source": [
    "df_sorted = ws.sortCol()\n",
    "df_sorted.head(3)"
   ]
  },
  {
   "cell_type": "markdown",
   "metadata": {},
   "source": [
    "查看分子"
   ]
  },
  {
   "cell_type": "code",
   "execution_count": 8,
   "metadata": {},
   "outputs": [
    {
     "name": "stderr",
     "output_type": "stream",
     "text": [
      "D:\\Anaconda3\\lib\\site-packages\\rdkit\\Chem\\Draw\\IPythonConsole.py:188: UserWarning: Truncating the list of molecules to be displayed to 3. Change the maxMols value to display more.\n",
      "  % (maxMols))\n"
     ]
    },
    {
     "data": {
      "image/png": "[encoded data removed]",
      "text/plain": [
       "<PIL.PngImagePlugin.PngImageFile image mode=RGB size=800x200 at 0x924AB08>"
      ]
     },
     "execution_count": 8,
     "metadata": {},
     "output_type": "execute_result"
    }
   ],
   "source": [
    "img = ws.drawMol(3)\n",
    "img"
   ]
  },
  {
   "cell_type": "markdown",
   "metadata": {},
   "source": [
    "# 三、获取一组蛋白的分子活性数据\n",
    "同样设置、提取、查看活性最强的分子"
   ]
  },
  {
   "cell_type": "code",
   "execution_count": 9,
   "metadata": {},
   "outputs": [
    {
     "name": "stdout",
     "output_type": "stream",
     "text": [
      "200 UTF-8\n",
      "(323, 7)\n"
     ]
    },
    {
     "name": "stderr",
     "output_type": "stream",
     "text": [
      "D:\\Anaconda3\\lib\\site-packages\\rdkit\\Chem\\Draw\\IPythonConsole.py:188: UserWarning: Truncating the list of molecules to be displayed to 1. Change the maxMols value to display more.\n",
      "  % (maxMols))\n"
     ]
    },
    {
     "data": {
      "image/png": "[encoded data removed]",
      "text/plain": [
       "<PIL.PngImagePlugin.PngImageFile image mode=RGB size=800x200 at 0x99B14C8>"
      ]
     },
     "execution_count": 9,
     "metadata": {},
     "output_type": "execute_result"
    }
   ],
   "source": [
    "proteins = 'P04798,A4F3V9,A4F3W0,Q53G18,P00185'\n",
    "aff_cutoff = 1000000000\n",
    "ws = webService()\n",
    "df = ws.getLigandsByUniprots(proteins, aff_cutoff)\n",
    "print(df.shape)\n",
    "img = ws.drawMol()\n",
    "img"
   ]
  }
 ],
 "metadata": {
  "kernelspec": {
   "display_name": "Python 3",
   "language": "python",
   "name": "python3"
  },
  "language_info": {
   "codemirror_mode": {
    "name": "ipython",
    "version": 3
   },
   "file_extension": ".py",
   "mimetype": "text/x-python",
   "name": "python",
   "nbconvert_exporter": "python",
   "pygments_lexer": "ipython3",
   "version": "3.7.6"
  }
 },
 "nbformat": 4,
 "nbformat_minor": 4
}
